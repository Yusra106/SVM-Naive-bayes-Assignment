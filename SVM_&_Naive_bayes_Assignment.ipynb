{
  "nbformat": 4,
  "nbformat_minor": 0,
  "metadata": {
    "colab": {
      "provenance": []
    },
    "kernelspec": {
      "name": "python3",
      "display_name": "Python 3"
    },
    "language_info": {
      "name": "python"
    }
  },
  "cells": [
    {
      "cell_type": "markdown",
      "source": [
        "# **SVM AND NAIVE BAYES ASSIGNMENT**"
      ],
      "metadata": {
        "id": "vYLmlHrIR5Wg"
      }
    },
    {
      "cell_type": "markdown",
      "source": [
        "## **THEORETICAL**"
      ],
      "metadata": {
        "id": "nUZTlrueSF7P"
      }
    },
    {
      "cell_type": "markdown",
      "source": [],
      "metadata": {
        "id": "WZzBiTzunNKS"
      }
    },
    {
      "cell_type": "markdown",
      "source": [
        "Ques1. What is a Support Vector Machine (SVM) ?"
      ],
      "metadata": {
        "id": "7sW1YZUSSMym"
      }
    },
    {
      "cell_type": "markdown",
      "source": [
        "Ans. A Support Vector Machine (SVM) is a powerful supervised machine learning algorithm used for both classification and regression tasks, though it's most well-known for its effectiveness in classification. SVMs work by finding the optimal hyperplane (a decision boundary) that separates data points into different classes with the largest possible margin. This \"margin\" is the distance between the hyperplane and the closest data points of each class, known as support vectors."
      ],
      "metadata": {
        "id": "LpRwr1RoSfNA"
      }
    },
    {
      "cell_type": "markdown",
      "source": [
        "Ques2. What is the difference between Hard Margin and Soft Margin SVM ?"
      ],
      "metadata": {
        "id": "aK7Nm2jjTJHK"
      }
    },
    {
      "cell_type": "markdown",
      "source": [
        "Ans. In Support Vector Machines (SVMs), hard margin SVM aims to find a hyperplane that perfectly separates data points into different classes with no errors, while soft margin SVM allows for some misclassifications to better handle data that isn't perfectly separable."
      ],
      "metadata": {
        "id": "zrCiMKQfTOpx"
      }
    },
    {
      "cell_type": "markdown",
      "source": [
        "Ques3. What is the mathematical intuition behind SVM ?"
      ],
      "metadata": {
        "id": "F_IN_WXrTdji"
      }
    },
    {
      "cell_type": "markdown",
      "source": [
        "Ans. The core mathematical intuition behind Support Vector Machines (SVM) is to find the optimal hyperplane that maximizes the margin between different classes in a dataset. This hyperplane acts as a decision boundary, and by maximizing the margin, SVM aims to create a more robust and generalizable classifier."
      ],
      "metadata": {
        "id": "Z5q9j4TWVu0b"
      }
    },
    {
      "cell_type": "markdown",
      "source": [
        "Ques4. What is the role of Lagrange Multipliers in SVM ?"
      ],
      "metadata": {
        "id": "rcHJ6nhQV3gC"
      }
    },
    {
      "cell_type": "markdown",
      "source": [
        "Ans. In Support Vector Machines (SVMs), Lagrange multipliers are crucial for transforming the constrained optimization problem into a dual form, which simplifies the calculation of the optimal hyperplane that separates data points. They act as weights, balancing the margin maximization objective with the constraints imposed by the support vectors."
      ],
      "metadata": {
        "id": "P0Lm30vpW3F5"
      }
    },
    {
      "cell_type": "markdown",
      "source": [
        "Ques5. What are Support Vectors in SVM ?"
      ],
      "metadata": {
        "id": "3p_l7n04Xt81"
      }
    },
    {
      "cell_type": "markdown",
      "source": [
        "Ans. In a Support Vector Machine (SVM), support vectors are the data points that are closest to the decision boundary (hyperplane) and directly influence its position and orientation. These points are crucial because they are the most difficult to classify and their positions define the margin and ultimately, the SVM's classification performance."
      ],
      "metadata": {
        "id": "QnyBw2oOXzom"
      }
    },
    {
      "cell_type": "markdown",
      "source": [
        "Ques6. What is a Support Vector Classifier (SVC) ?"
      ],
      "metadata": {
        "id": "tlckTFendPnM"
      }
    },
    {
      "cell_type": "markdown",
      "source": [
        "Ans. A Support Vector Classifier (SVC) is a specific type of Support Vector Machine (SVM) used for classification tasks. It aims to find the best hyperplane that separates data points into different classes by maximizing the margin between the hyperplane and the closest data points (support vectors)."
      ],
      "metadata": {
        "id": "81wuvVvbdYj0"
      }
    },
    {
      "cell_type": "markdown",
      "source": [
        "Ques7. What is a Support Vector Regressor (SVR) ?"
      ],
      "metadata": {
        "id": "zdck2Xphdgul"
      }
    },
    {
      "cell_type": "markdown",
      "source": [
        "Ans. A Support Vector Regressor (SVR) is a machine learning algorithm used for regression tasks, which aims to predict continuous numerical values. It's an extension of the Support Vector Machine (SVM) algorithm, but instead of classifying data, it fits a function to the data points to predict a continuous output. SVR works by finding a \"tube\" or hyperplane that best approximates the data while minimizing prediction errors, and it's particularly useful when dealing with non-linear relationships in the data."
      ],
      "metadata": {
        "id": "bPnGiTJYdnPc"
      }
    },
    {
      "cell_type": "markdown",
      "source": [
        "Ques8. What is the Kernel Trick in SVM ?"
      ],
      "metadata": {
        "id": "ML6T_5mDdzjG"
      }
    },
    {
      "cell_type": "markdown",
      "source": [
        "Ans. The Kernel Trick in Support Vector Classification | by Drew ...The kernel trick in Support Vector Machines (SVMs) is a technique that allows SVMs to classify data that is not linearly separable by implicitly mapping the data into a higher-dimensional space where it becomes linearly separable. Instead of explicitly computing the transformations into the higher-dimensional space, which can be computationally expensive, the kernel trick uses kernel functions to calculate the dot products of the transformed vectors directly in the original feature space.\n"
      ],
      "metadata": {
        "id": "luJGXKXSd_Q3"
      }
    },
    {
      "cell_type": "markdown",
      "source": [
        "Ques9. Compare Linear Kernel, Polynomial Kernel, and RBF Kernel ?"
      ],
      "metadata": {
        "id": "iJgd-E2GeHKY"
      }
    },
    {
      "cell_type": "markdown",
      "source": [
        "Ans. Comparison of the three most common SVM kernels:\n",
        "##  Linear Kernel\n",
        "\n",
        "**Definition:**\n",
        "$K(x, y) = x^\\top y$\n",
        "**When to use:**\n",
        "\n",
        "* Data is already linearly separable or very high-dimensional (e.g., text classification, spam filtering)\n",
        "  **Pros:**\n",
        "* Fastest training and prediction\n",
        "* Simple to interpret\n",
        "* Low risk of overfitting in high dimensions\n",
        "  **Cons:**\n",
        "* Cannot model non-linear patterns\n",
        "\n",
        "##  Polynomial Kernel\n",
        "\n",
        "**Definition:**\n",
        "$K(x, y) = (x^\\top y + c)^d$ where *d* is degree, *c* is constant\n",
        "**When to use:**\n",
        "\n",
        "* Data has polynomial structure or interactions\n",
        "* Useful in moderate feature dimensions (e.g., image recognition)\n",
        "  **Pros:**\n",
        "* Flexible: models feature interactions of degree *d*\n",
        "* More expressive than linear while remaining interpretable in some contexts\n",
        "  **Cons:**\n",
        "* Can overfit at high *d*\n",
        "* Computationally more expensive\n",
        "* Sensitive to parameter choice (*d*, *c*)\n",
        "\n",
        "\n",
        "## RBF (Gaussian) Kernel\n",
        "\n",
        "**Definition:**\n",
        "$K(x, y) = \\exp\\big(-\\gamma \\|x - y\\|^2\\big)$ with $\\gamma > 0$\n",
        "**When to use:**\n",
        "\n",
        "* No prior knowledge; default for complex or unknown data structures\n",
        "  **Pros:**\n",
        "* Very flexible; can approximate any decision boundary\n",
        "* Global kernel with smooth similarity decay\n",
        "* Often best performer in benchmarks\n",
        "  **Cons:**\n",
        "* Requires careful tuning of $\\gamma$ and $C$ to avoid overfitting\n",
        "* Can be slower, especially with large datasets\n",
        "\n",
        "###  Choosing the Right Kernel\n",
        "\n",
        "1. **Linear**: Best for linearly separable or very high-dimensional data—fast and simple.\n",
        "2. **Polynomial**: Good when you expect polynomial relationships—but watch for overfitting and compute cost.\n",
        "3. **RBF**: Strong default choice; handles non-linear patterns well, but requires tuning ($\\gamma, C$).\n",
        "\n"
      ],
      "metadata": {
        "id": "iJklUsqoeOGX"
      }
    },
    {
      "cell_type": "markdown",
      "source": [
        "Ques10. What is the effect of the C parameter in SVM ?"
      ],
      "metadata": {
        "id": "_I9TyJQRegzJ"
      }
    },
    {
      "cell_type": "markdown",
      "source": [
        "Ans. In Support Vector Machines (SVMs), the C parameter controls the trade-off between achieving a low training error and a smooth decision boundary. It acts as a regularization parameter, influencing how much the SVM prioritizes correct classification of training data versus maintaining a wider margin."
      ],
      "metadata": {
        "id": "pYANioFEfsPE"
      }
    },
    {
      "cell_type": "markdown",
      "source": [
        "Ques11. What is the role of the Gamma parameter in RBF Kernel SVM ?"
      ],
      "metadata": {
        "id": "yHrk0SGQhDG2"
      }
    },
    {
      "cell_type": "markdown",
      "source": [
        "Ans. In the Radial Basis Function (RBF) kernel of a Support Vector Machine (SVM), the gamma parameter (γ) controls the influence of individual training examples. A high gamma value means that each training example has a very localized influence, leading to a complex, wiggly decision boundary that might overfit the training data. Conversely, a low gamma value indicates that each example has a wider influence, resulting in a smoother, simpler decision boundary. Essentially, gamma determines how \"far\" the influence of a single data point reaches."
      ],
      "metadata": {
        "id": "hMkCfLX5hl1g"
      }
    },
    {
      "cell_type": "markdown",
      "source": [
        "Ques12. What is the Naïve Bayes classifier, and why is it called \"Naïve\" ?"
      ],
      "metadata": {
        "id": "47FmFcICiElB"
      }
    },
    {
      "cell_type": "markdown",
      "source": [
        "Ans. The Naïve Bayes classifier is a simple probabilistic classifier based on Bayes' theorem. It's called \"naive\" because it makes a simplifying assumption that the features used for classification are independent of each other, given the class label. This independence assumption, while often unrealistic in real-world scenarios, makes the calculations much simpler and faster."
      ],
      "metadata": {
        "id": "3hqjePC2iJ3C"
      }
    },
    {
      "cell_type": "markdown",
      "source": [
        "Ques13. What is Bayes Theorem ?"
      ],
      "metadata": {
        "id": "zW3m0ByJiYRS"
      }
    },
    {
      "cell_type": "markdown",
      "source": [
        "Ans. Bayes' Theorem is a mathematical formula for calculating conditional probabilities. It describes how to update the probability of an event based on new evidence or information. In simpler terms, it helps you revise your beliefs about something when you learn something new.\n",
        "##  The Formula\n",
        "\n",
        "For two events $A$ and $B$:\n",
        "\n",
        "\n",
        "\n",
        "* **$P(A)$** = prior probability of $A$ (before seeing evidence)\n",
        "* **$P(B \\mid A)$** = likelihood of observing $B$ if $A$ is true\n",
        "* **$P(B)$** = overall probability of observing $B$\n",
        "* **$P(A \\mid B)$** = updated probability (posterior) of $A$ given $B$\n",
        "\n",
        "\n"
      ],
      "metadata": {
        "id": "FqKF38JQie5i"
      }
    },
    {
      "cell_type": "markdown",
      "source": [
        "Ques14. Explain the differences between Gaussian Naïve Bayes, Multinomial Naïve Bayes, and Bernoulli Naïve Bayes."
      ],
      "metadata": {
        "id": "-aEoGb9WjO-M"
      }
    },
    {
      "cell_type": "markdown",
      "source": [
        "Ans. The key difference between Gaussian Naïve Bayes, Multinomial Naïve Bayes, and Bernoulli Naïve Bayes lies in the type of data they handle and the assumptions they make about the distribution of those data. Here's a breakdown:\n",
        "\n",
        "**Gaussian Naïve Bayes**:\n",
        "This variant assumes that features are continuous and follow a normal (Gaussian) distribution. It's suitable for numerical data like age or temperature.\n",
        "\n",
        "**Multinomial Naïve Bayes**:\n",
        "This version assumes that features are discrete and represent counts. For example, in text classification, it would count how many times each word appears in a document.\n",
        "\n",
        "**Bernoulli Naïve Bayes**:\n",
        "This variant assumes that features are binary (either 0 or 1). It's useful for situations where you're concerned with the presence or absence of a feature, like whether a word appears in a document."
      ],
      "metadata": {
        "id": "nphPQg4Ojgol"
      }
    },
    {
      "cell_type": "markdown",
      "source": [
        "Ques15. When should you use Gaussian Naïve Bayes over other variants ?"
      ],
      "metadata": {
        "id": "s41sPuc4khb2"
      }
    },
    {
      "cell_type": "markdown",
      "source": [
        "Ans. Gaussian Naive Bayes is best used when your features are continuous and approximately normally distributed. It excels in scenarios where data points cluster around a central mean, forming a bell curve shape. This makes it suitable for tasks like spam detection, medical diagnosis, or predicting house prices, where features like age, income, or height often follow a normal distribution."
      ],
      "metadata": {
        "id": "04YHOwBDkmuC"
      }
    },
    {
      "cell_type": "markdown",
      "source": [
        "Ques16. What are the key assumptions made by Naïve Bayes ?"
      ],
      "metadata": {
        "id": "lHGeN3blkyu2"
      }
    },
    {
      "cell_type": "markdown",
      "source": [
        "Ans. The Naive Bayes classifier makes a key assumption: conditional independence between features given the class label. This means that the presence or absence of one feature does not affect the presence or absence of any other feature, given the class. This simplification, while often unrealistic in real-world data, is what gives the algorithm its \"naive\" nature."
      ],
      "metadata": {
        "id": "xhfk8AiLk4RO"
      }
    },
    {
      "cell_type": "markdown",
      "source": [
        "Ques17. What are the advantages and disadvantages of Naïve Bayes ?"
      ],
      "metadata": {
        "id": "001f2w4blJwn"
      }
    },
    {
      "cell_type": "markdown",
      "source": [
        "Ans. Here are the **key advantages and disadvantages** of Naïve Bayes classifiers, with web and community insights:\n",
        "## Advantages\n",
        "\n",
        "1. **Fast, Lightweight & Simple**\n",
        "\n",
        "   * Very easy to implement and train—no complex iterations needed .\n",
        "   * Scales linearly with data size and dimensionality; ideal for large datasets.\n",
        "   * Low memory footprint—perfect for limited-resource environments .\n",
        "\n",
        "2. **Handles High-Dimensional Data & Sparse Features Well**\n",
        "\n",
        "   * Performs excellently in text classification and NLP tasks (spam filtering, sentiment analysis, document categorization).\n",
        "   * Easy to update with new data, suitable for streaming or real-time applications .\n",
        "\n",
        "3. **Effective with Small Training Sets**\n",
        "\n",
        "   * Requires fewer samples to estimate parameters since features are treated independently .\n",
        "   * Can handle missing features by ignoring them during probability computation .\n",
        "\n",
        "4. **Probabilistic Outputs & Interpretability**\n",
        "\n",
        "   * Provides class probability estimates, allowing for more nuanced decision-making .\n",
        "   * Offers insight into feature contributions for each class—highly interpretable .\n",
        "\n",
        "##  Disadvantages\n",
        "\n",
        "1. **“Naïve” Independence Assumption**\n",
        "\n",
        "   * Assumes all features are conditionally independent—a strong and often invalid assumption .\n",
        "   * Correlated features may bias results:\n",
        "\n",
        "     > “If they are correlated, ... it's effectively 'double-counting' ”.\n",
        "\n",
        "2. **Zero-Frequency Problem**\n",
        "\n",
        "   * Unseen feature-class combinations lead to zero probability and invalid predictions—mitigated by Laplace smoothing .\n",
        "\n",
        "3. **Poor Probability Calibration**\n",
        "\n",
        "   * Output probabilities may be unreliable or overconfident, especially with imbalanced classes .\n",
        "   * More sophisticated methods (e.g. SVM, Random Forests) often yield better-calibrated results .\n",
        "\n",
        "4. **Limited Expressiveness**\n",
        "\n",
        "   * Captures only linear and simple relationships between features and labels .\n",
        "   * Non-linear patterns or interactions are not modeled.\n",
        "\n",
        "5. **Sensitive to Feature and Class Characteristics**\n",
        "\n",
        "   * Performance degrades with skewed distributions unless preprocessing is applied.\n",
        "   * Biased towards majority classes in imbalanced datasets .\n",
        "   * Outlier-prone in continuous data without proper smoothing or modeling .\n",
        "\n",
        "\n"
      ],
      "metadata": {
        "id": "2gbAHQAplPvQ"
      }
    },
    {
      "cell_type": "markdown",
      "source": [
        "Ques18. Why is Naïve Bayes a good choice for text classification ?"
      ],
      "metadata": {
        "id": "2zWw2B1WmBt4"
      }
    },
    {
      "cell_type": "markdown",
      "source": [
        "Ans. Naive Bayes is a good choice for text classification primarily because of its simplicity, speed, and effectiveness, especially with high-dimensional data and limited training data. Its probabilistic approach and the \"naive\" assumption of feature independence, while not always perfectly accurate, often yield surprisingly good results in practice."
      ],
      "metadata": {
        "id": "3hZt-sWhmIfp"
      }
    },
    {
      "cell_type": "markdown",
      "source": [
        "Ques19. Compare SVM and Naïve Bayes for classification tasks."
      ],
      "metadata": {
        "id": "9b4Xg9YDmR7q"
      }
    },
    {
      "cell_type": "markdown",
      "source": [
        "Ans. SVM and Naive Bayes are both popular classification algorithms, but they differ significantly in their approach. SVMs focus on finding the optimal hyperplane to separate classes, while Naive Bayes uses probabilistic calculations based on Bayes' theorem, assuming feature independence. SVMs often perform better with complex, non-linearly separable data and high-dimensional spaces, but Naive Bayes excels in speed, simplicity, and performance with smaller datasets, especially when feature independence holds."
      ],
      "metadata": {
        "id": "UIgsGoYMmWOS"
      }
    },
    {
      "cell_type": "markdown",
      "source": [
        "Ques20. How does Laplace Smoothing help in Naïve Bayes?"
      ],
      "metadata": {
        "id": "lpxXa-O2mhrh"
      }
    },
    {
      "cell_type": "markdown",
      "source": [
        "Ans. Laplace smoothing, also known as add-one smoothing, helps Naive Bayes classifiers by preventing zero probabilities, which can cause issues during classification when a word or feature is not present in the training data for a specific class. By adding a small value (typically 1) to all counts, it ensures that no probability is ever zero, making the model more robust and improving its generalization ability."
      ],
      "metadata": {
        "id": "GPCGmwxPmnEK"
      }
    },
    {
      "cell_type": "markdown",
      "source": [
        "## **PRACTICAL**"
      ],
      "metadata": {
        "id": "48LS3WnymxJa"
      }
    },
    {
      "cell_type": "markdown",
      "source": [
        "Que21. Write a Python program to train an SVM Classifier on the Iris dataset and evaluate accuracy."
      ],
      "metadata": {
        "id": "7PkSP0kxnAJC"
      }
    },
    {
      "cell_type": "code",
      "source": [
        "# Load the Iris dataset\n",
        "from sklearn.datasets import load_iris\n",
        "iris = load_iris()\n",
        "X = iris.data\n",
        "y = iris.target\n",
        "\n",
        "# Split data into training and testing sets\n",
        "from sklearn.model_selection import train_test_split\n",
        "X_train, X_test, y_train, y_test = train_test_split(X, y, test_size=0.3, random_state=42)\n",
        "\n",
        "# Train an SVM classifier\n",
        "from sklearn.svm import SVC\n",
        "svm_classifier = SVC(kernel='linear', random_state=42)\n",
        "svm_classifier.fit(X_train, y_train)\n",
        "\n",
        "# Make predictions on the test set\n",
        "y_pred = svm_classifier.predict(X_test)\n",
        "\n",
        "# Evaluate the accuracy\n",
        "from sklearn.metrics import accuracy_score\n",
        "accuracy = accuracy_score(y_test, y_pred)\n",
        "print(f\"Accuracy of the SVM classifier on the Iris dataset: {accuracy:.2f}\")\n"
      ],
      "metadata": {
        "colab": {
          "base_uri": "https://localhost:8080/"
        },
        "id": "k2Q32jjOnfCT",
        "outputId": "68568e04-6187-4011-c5cf-14d401b7fd39"
      },
      "execution_count": 1,
      "outputs": [
        {
          "output_type": "stream",
          "name": "stdout",
          "text": [
            "Accuracy of the SVM classifier on the Iris dataset: 1.00\n"
          ]
        }
      ]
    },
    {
      "cell_type": "markdown",
      "source": [
        "Ques22. Write a Python program to train two SVM classifiers with Linear and RBF kernels on the Wine dataset, then compare their accuracies."
      ],
      "metadata": {
        "id": "ZCaajS4cneqr"
      }
    },
    {
      "cell_type": "code",
      "source": [
        "from sklearn.datasets import load_wine\n",
        "from sklearn.model_selection import train_test_split\n",
        "from sklearn.svm import SVC\n",
        "from sklearn.metrics import accuracy_score\n",
        "\n",
        "# Load the Wine dataset\n",
        "wine = load_wine()\n",
        "X = wine.data\n",
        "y = wine.target\n",
        "\n",
        "# Split data into training and testing sets\n",
        "X_train, X_test, y_train, y_test = train_test_split(X, y, test_size=0.3, random_state=42)\n",
        "\n",
        "# Train an SVM classifier with Linear kernel\n",
        "svm_linear = SVC(kernel='linear', random_state=42)\n",
        "svm_linear.fit(X_train, y_train)\n",
        "\n",
        "# Train an SVM classifier with RBF kernel\n",
        "svm_rbf = SVC(kernel='rbf', random_state=42)\n",
        "svm_rbf.fit(X_train, y_train)\n",
        "\n",
        "# Make predictions on the test set for both classifiers\n",
        "y_pred_linear = svm_linear.predict(X_test)\n",
        "y_pred_rbf = svm_rbf.predict(X_test)\n",
        "\n",
        "# Evaluate the accuracy for both classifiers\n",
        "accuracy_linear = accuracy_score(y_test, y_pred_linear)\n",
        "accuracy_rbf = accuracy_score(y_test, y_pred_rbf)\n",
        "\n",
        "print(f\"Accuracy of the SVM classifier with Linear kernel on the Wine dataset: {accuracy_linear:.2f}\")\n",
        "print(f\"Accuracy of the SVM classifier with RBF kernel on the Wine dataset: {accuracy_rbf:.2f}\")\n"
      ],
      "metadata": {
        "colab": {
          "base_uri": "https://localhost:8080/"
        },
        "id": "K0D4ahlVn52U",
        "outputId": "a3fd924e-c34f-4703-cf17-0bec0e7a8b8e"
      },
      "execution_count": 3,
      "outputs": [
        {
          "output_type": "stream",
          "name": "stdout",
          "text": [
            "Accuracy of the SVM classifier with Linear kernel on the Wine dataset: 0.98\n",
            "Accuracy of the SVM classifier with RBF kernel on the Wine dataset: 0.76\n"
          ]
        }
      ]
    },
    {
      "cell_type": "markdown",
      "source": [
        "Ques23. Write a Python program to train an SVM Regressor (SVR) on a housing dataset and evaluate it using Mean Squared Error (MSE)."
      ],
      "metadata": {
        "id": "96WQiQ3noAmN"
      }
    },
    {
      "cell_type": "code",
      "source": [
        "from sklearn.datasets import fetch_california_housing\n",
        "from sklearn.model_selection import train_test_split\n",
        "from sklearn.svm import SVR\n",
        "from sklearn.metrics import mean_squared_error\n",
        "\n",
        "# Load the California Housing dataset\n",
        "housing = fetch_california_housing()\n",
        "X = housing.data\n",
        "y = housing.target\n",
        "\n",
        "# Split data into training and testing sets\n",
        "X_train, X_test, y_train, y_test = train_test_split(X, y, test_size=0.3, random_state=42)\n",
        "\n",
        "# Train an SVM Regressor (SVR)\n",
        "# Using default RBF kernel\n",
        "svr = SVR()\n",
        "svr.fit(X_train, y_train)\n",
        "\n",
        "# Make predictions on the test set\n",
        "y_pred = svr.predict(X_test)\n",
        "\n",
        "# Evaluate the model using Mean Squared Error (MSE)\n",
        "mse = mean_squared_error(y_test, y_pred)\n",
        "print(f\"Mean Squared Error of the SVR on the California Housing dataset: {mse:.2f}\")"
      ],
      "metadata": {
        "colab": {
          "base_uri": "https://localhost:8080/"
        },
        "id": "RtWjudMu0PJY",
        "outputId": "48fda740-ad23-43ae-feed-dd3a02fd6c52"
      },
      "execution_count": 4,
      "outputs": [
        {
          "output_type": "stream",
          "name": "stdout",
          "text": [
            "Mean Squared Error of the SVR on the California Housing dataset: 1.35\n"
          ]
        }
      ]
    },
    {
      "cell_type": "markdown",
      "source": [
        "Ques24. Write a Python program to train an SVM Classifier with a Polynomial Kernel and visualize the decision boundary."
      ],
      "metadata": {
        "id": "4pl7VjeA0nlg"
      }
    },
    {
      "cell_type": "code",
      "source": [
        "import numpy as np\n",
        "import matplotlib.pyplot as plt\n",
        "from sklearn.datasets import make_blobs\n",
        "from sklearn.svm import SVC\n",
        "\n",
        "# Generate some synthetic data for visualization\n",
        "X, y = make_blobs(n_samples=100, centers=2, random_state=42, cluster_std=2)\n",
        "\n",
        "# Train an SVM classifier with a Polynomial kernel\n",
        "# You can adjust the degree parameter\n",
        "svm_poly = SVC(kernel='poly', degree=3, random_state=42)\n",
        "svm_poly.fit(X, y)\n",
        "\n",
        "# Create a mesh to plot the decision boundary\n",
        "h = .02  # step size in the mesh\n",
        "x_min, x_max = X[:, 0].min() - 1, X[:, 0].max() + 1\n",
        "y_min, y_max = X[:, 1].min() - 1, X[:, 1].max() + 1\n",
        "xx, yy = np.meshgrid(np.arange(x_min, x_max, h),\n",
        "                     np.arange(y_min, y_max, h))\n",
        "\n",
        "# Predict the class for each point in the mesh\n",
        "Z = svm_poly.predict(np.c_[xx.ravel(), yy.ravel()])\n",
        "Z = Z.reshape(xx.shape)\n",
        "\n",
        "# Plot the decision boundary\n",
        "plt.contourf(xx, yy, Z, cmap=plt.cm.coolwarm, alpha=0.8)\n",
        "\n",
        "# Plot also the training points\n",
        "plt.scatter(X[:, 0], X[:, 1], c=y, cmap=plt.cm.coolwarm, edgecolors='k')\n",
        "plt.xlabel('Feature 1')\n",
        "plt.ylabel('Feature 2')\n",
        "plt.title('SVM with Polynomial Kernel Decision Boundary')\n",
        "plt.show()"
      ],
      "metadata": {
        "colab": {
          "base_uri": "https://localhost:8080/",
          "height": 472
        },
        "id": "-xY698xF04oS",
        "outputId": "48e2e8b4-fd81-4336-85fc-31c7e0156369"
      },
      "execution_count": 6,
      "outputs": [
        {
          "output_type": "display_data",
          "data": {
            "text/plain": [
              "<Figure size 640x480 with 1 Axes>"
            ],
            "image/png": "[encoded data removed]"
          },
          "metadata": {}
        }
      ]
    },
    {
      "cell_type": "markdown",
      "source": [
        "Ques25. Write a Python program to train a Gaussian Naïve Bayes classifier on the Breast Cancer dataset and evaluate accuracy."
      ],
      "metadata": {
        "id": "BMNym4S309ex"
      }
    },
    {
      "cell_type": "code",
      "source": [
        "from sklearn.naive_bayes import GaussianNB\n",
        "from sklearn.datasets import load_breast_cancer\n",
        "\n",
        "# Load the Breast Cancer dataset\n",
        "breast_cancer = load_breast_cancer()\n",
        "X = breast_cancer.data\n",
        "y = breast_cancer.target\n",
        "\n",
        "# Split data into training and testing sets\n",
        "X_train, X_test, y_train, y_test = train_test_split(X, y, test_size=0.3, random_state=42)\n",
        "\n",
        "# Train a Gaussian Naive Bayes classifier\n",
        "gnb = GaussianNB()\n",
        "gnb.fit(X_train, y_train)\n",
        "\n",
        "# Make predictions on the test set\n",
        "y_pred = gnb.predict(X_test)\n",
        "\n",
        "# Evaluate the accuracy\n",
        "accuracy = accuracy_score(y_test, y_pred)\n",
        "print(f\"Accuracy of the Gaussian Naive Bayes classifier on the Breast Cancer dataset: {accuracy:.2f}\")\n"
      ],
      "metadata": {
        "colab": {
          "base_uri": "https://localhost:8080/"
        },
        "id": "VBfogbWZ1B3B",
        "outputId": "e437796c-1334-4909-e207-bbe62709ccbc"
      },
      "execution_count": 7,
      "outputs": [
        {
          "output_type": "stream",
          "name": "stdout",
          "text": [
            "Accuracy of the Gaussian Naive Bayes classifier on the Breast Cancer dataset: 0.94\n"
          ]
        }
      ]
    },
    {
      "cell_type": "markdown",
      "source": [
        "Ques26. Write a Python program to train a Multinomial Naïve Bayes classifier for text classification using the 20 Newsgroups dataset."
      ],
      "metadata": {
        "id": "Xn-JGfRd1R9Q"
      }
    },
    {
      "cell_type": "code",
      "source": [
        "!pip install scikit-learn\n",
        "from sklearn.datasets import fetch_20newsgroups\n",
        "from sklearn.feature_extraction.text import TfidfVectorizer\n",
        "from sklearn.naive_bayes import MultinomialNB\n",
        "from sklearn.model_selection import train_test_split\n",
        "from sklearn.metrics import accuracy_score, classification_report\n",
        "\n",
        "# Load the 20 Newsgroups dataset\n",
        "# We'll use a subset for demonstration purposes\n",
        "categories = ['alt.atheism', 'soc.religion.christian', 'comp.graphics', 'sci.med']\n",
        "newsgroups_train = fetch_20newsgroups(subset='train', categories=categories, shuffle=True, random_state=42)\n",
        "newsgroups_test = fetch_20newsgroups(subset='test', categories=categories, shuffle=True, random_state=42)\n",
        "\n",
        "X_train, y_train = newsgroups_train.data, newsgroups_train.target\n",
        "X_test, y_test = newsgroups_test.data, newsgroups_test.target\n",
        "\n",
        "# Convert text data to numerical feature vectors using TF-IDF\n",
        "vectorizer = TfidfVectorizer()\n",
        "X_train_tfidf = vectorizer.fit_transform(X_train)\n",
        "X_test_tfidf = vectorizer.transform(X_test)\n",
        "\n",
        "# Train a Multinomial Naive Bayes classifier\n",
        "multinomial_nb = MultinomialNB()\n",
        "multinomial_nb.fit(X_train_tfidf, y_train)\n",
        "\n",
        "# Make predictions on the test set\n",
        "y_pred = multinomial_nb.predict(X_test_tfidf)\n",
        "\n",
        "# Evaluate the accuracy\n",
        "accuracy = accuracy_score(y_test, y_pred)\n",
        "print(f\"Accuracy of the Multinomial Naive Bayes classifier on the 20 Newsgroups dataset: {accuracy:.2f}\")\n",
        "\n",
        "# Print classification report\n",
        "print(\"\\nClassification Report:\")\n",
        "print(classification_report(y_test, y_pred, target_names=newsgroups_test.target_names))"
      ],
      "metadata": {
        "colab": {
          "base_uri": "https://localhost:8080/"
        },
        "id": "6FFJd-wH1T47",
        "outputId": "b3a5d93c-4ed6-4f89-9aee-86302496ac1c"
      },
      "execution_count": 10,
      "outputs": [
        {
          "output_type": "stream",
          "name": "stdout",
          "text": [
            "Requirement already satisfied: scikit-learn in /usr/local/lib/python3.11/dist-packages (1.6.1)\n",
            "Requirement already satisfied: numpy>=1.19.5 in /usr/local/lib/python3.11/dist-packages (from scikit-learn) (2.0.2)\n",
            "Requirement already satisfied: scipy>=1.6.0 in /usr/local/lib/python3.11/dist-packages (from scikit-learn) (1.15.3)\n",
            "Requirement already satisfied: joblib>=1.2.0 in /usr/local/lib/python3.11/dist-packages (from scikit-learn) (1.5.1)\n",
            "Requirement already satisfied: threadpoolctl>=3.1.0 in /usr/local/lib/python3.11/dist-packages (from scikit-learn) (3.6.0)\n",
            "Accuracy of the Multinomial Naive Bayes classifier on the 20 Newsgroups dataset: 0.83\n",
            "\n",
            "Classification Report:\n",
            "                        precision    recall  f1-score   support\n",
            "\n",
            "           alt.atheism       0.97      0.60      0.74       319\n",
            "         comp.graphics       0.96      0.89      0.92       389\n",
            "               sci.med       0.97      0.81      0.88       396\n",
            "soc.religion.christian       0.65      0.99      0.78       398\n",
            "\n",
            "              accuracy                           0.83      1502\n",
            "             macro avg       0.89      0.82      0.83      1502\n",
            "          weighted avg       0.88      0.83      0.84      1502\n",
            "\n"
          ]
        }
      ]
    },
    {
      "cell_type": "markdown",
      "source": [
        "Ques27. Write a Python program to train an SVM Classifier with different C values and compare the decision boundaries visually ."
      ],
      "metadata": {
        "id": "-LXat6lk1aGh"
      }
    },
    {
      "cell_type": "code",
      "source": [
        "# Generate synthetic data for visualization\n",
        "X, y = make_blobs(n_samples=100, centers=2, random_state=0, cluster_std=0.8)\n",
        "\n",
        "# Define different C values to experiment with\n",
        "C_values = [0.1, 1, 10, 100]\n",
        "\n",
        "# Create a mesh to plot the decision boundaries\n",
        "h = .02  # step size in the mesh\n",
        "x_min, x_max = X[:, 0].min() - 1, X[:, 0].max() + 1\n",
        "y_min, y_max = X[:, 1].min() - 1, X[:, 1].max() + 1\n",
        "xx, yy = np.meshgrid(np.arange(x_min, x_max, h),\n",
        "                     np.arange(y_min, y_max, h))\n",
        "\n",
        "# Plot the decision boundaries for different C values\n",
        "plt.figure(figsize=(15, 10))\n",
        "\n",
        "for i, C in enumerate(C_values):\n",
        "  # Train an SVM classifier with the current C value\n",
        "  svm_classifier = SVC(kernel='linear', C=C, random_state=42)\n",
        "  svm_classifier.fit(X, y)\n",
        "\n",
        "  # Predict the class for each point in the mesh\n",
        "  Z = svm_classifier.predict(np.c_[xx.ravel(), yy.ravel()])\n",
        "  Z = Z.reshape(xx.shape)\n",
        "\n",
        "  # Plot the decision boundary\n",
        "  plt.subplot(2, 2, i + 1)\n",
        "  plt.contourf(xx, yy, Z, cmap=plt.cm.coolwarm, alpha=0.8)\n",
        "\n",
        "  # Plot also the training points\n",
        "  plt.scatter(X[:, 0], X[:, 1], c=y, cmap=plt.cm.coolwarm, edgecolors='k')\n",
        "  plt.xlabel('Feature 1')\n",
        "  plt.ylabel('Feature 2')\n",
        "  plt.title(f'SVM with C = {C}')\n",
        "\n",
        "plt.tight_layout()\n",
        "plt.show()"
      ],
      "metadata": {
        "colab": {
          "base_uri": "https://localhost:8080/",
          "height": 855
        },
        "id": "3bTaEksq1yvJ",
        "outputId": "296edf9d-f589-4a42-9e8d-fba09704bf51"
      },
      "execution_count": 11,
      "outputs": [
        {
          "output_type": "display_data",
          "data": {
            "text/plain": [
              "<Figure size 1500x1000 with 4 Axes>"
            ],
            "image/png": "[encoded data removed]"
          },
          "metadata": {}
        }
      ]
    },
    {
      "cell_type": "markdown",
      "source": [
        "Ques28. Write a Python program to train a Bernoulli Naïve Bayes classifier for binary classification on a dataset with binary features."
      ],
      "metadata": {
        "id": "CEO8Lq8S18YC"
      }
    },
    {
      "cell_type": "code",
      "source": [
        "from sklearn.naive_bayes import BernoulliNB\n",
        "from sklearn.datasets import make_classification\n",
        "\n",
        "# Generate a synthetic binary dataset with binary features\n",
        "# We'll create a dataset where features are explicitly binary (0 or 1)\n",
        "X, y = make_classification(n_samples=100, n_features=10, n_informative=5,\n",
        "                           n_redundant=0, n_clusters_per_class=1, flip_y=0.05,\n",
        "                           random_state=42)\n",
        "\n",
        "# Convert continuous features to binary (e.g., using a threshold)\n",
        "# In a real-world scenario, your features would likely be already binary.\n",
        "# Here, we'll simply threshold the generated data for demonstration.\n",
        "X_binary = (X > np.median(X, axis=0)).astype(int)\n",
        "\n",
        "\n",
        "# Split data into training and testing sets\n",
        "X_train, X_test, y_train, y_test = train_test_split(X_binary, y, test_size=0.3, random_state=42)\n",
        "\n",
        "# Train a Bernoulli Naive Bayes classifier\n",
        "bnb = BernoulliNB()\n",
        "bnb.fit(X_train, y_train)\n",
        "\n",
        "# Make predictions on the test set\n",
        "y_pred = bnb.predict(X_test)\n",
        "\n",
        "# Evaluate the accuracy\n",
        "accuracy = accuracy_score(y_test, y_pred)\n",
        "print(f\"Accuracy of the Bernoulli Naive Bayes classifier: {accuracy:.2f}\")\n",
        "\n",
        "# Print classification report\n",
        "print(\"\\nClassification Report:\")\n",
        "print(classification_report(y_test, y_pred))"
      ],
      "metadata": {
        "colab": {
          "base_uri": "https://localhost:8080/"
        },
        "id": "jmbBDzCF2CZo",
        "outputId": "778c4ada-96e1-4301-d0d5-1b3a3f2e849e"
      },
      "execution_count": 12,
      "outputs": [
        {
          "output_type": "stream",
          "name": "stdout",
          "text": [
            "Accuracy of the Bernoulli Naive Bayes classifier: 0.77\n",
            "\n",
            "Classification Report:\n",
            "              precision    recall  f1-score   support\n",
            "\n",
            "           0       0.92      0.67      0.77        18\n",
            "           1       0.65      0.92      0.76        12\n",
            "\n",
            "    accuracy                           0.77        30\n",
            "   macro avg       0.79      0.79      0.77        30\n",
            "weighted avg       0.81      0.77      0.77        30\n",
            "\n"
          ]
        }
      ]
    },
    {
      "cell_type": "markdown",
      "source": [
        "Ques29. Write a Python program to apply feature scaling before training an SVM model and compare results with unscaled data."
      ],
      "metadata": {
        "id": "_4Tw0s282GpC"
      }
    },
    {
      "cell_type": "code",
      "source": [
        "from sklearn.preprocessing import StandardScaler\n",
        "\n",
        "# Load the Iris dataset (or any other suitable dataset for classification)\n",
        "iris = load_iris()\n",
        "X = iris.data\n",
        "y = iris.target\n",
        "\n",
        "# Split data into training and testing sets\n",
        "X_train, X_test, y_train, y_test = train_test_split(X, y, test_size=0.3, random_state=42)\n",
        "\n",
        "# --- Train SVM on Unscaled Data ---\n",
        "print(\"--- SVM on Unscaled Data ---\")\n",
        "svm_unscaled = SVC(kernel='linear', random_state=42)\n",
        "svm_unscaled.fit(X_train, y_train)\n",
        "y_pred_unscaled = svm_unscaled.predict(X_test)\n",
        "accuracy_unscaled = accuracy_score(y_test, y_pred_unscaled)\n",
        "print(f\"Accuracy with unscaled data: {accuracy_unscaled:.2f}\")\n",
        "\n",
        "# --- Apply Feature Scaling ---\n",
        "scaler = StandardScaler()\n",
        "X_train_scaled = scaler.fit_transform(X_train)\n",
        "X_test_scaled = scaler.transform(X_test)\n",
        "\n",
        "# --- Train SVM on Scaled Data ---\n",
        "print(\"\\n--- SVM on Scaled Data ---\")\n",
        "svm_scaled = SVC(kernel='linear', random_state=42)\n",
        "svm_scaled.fit(X_train_scaled, y_train)\n",
        "y_pred_scaled = svm_scaled.predict(X_test_scaled)\n",
        "accuracy_scaled = accuracy_score(y_test, y_pred_scaled)\n",
        "print(f\"Accuracy with scaled data: {accuracy_scaled:.2f}\")\n",
        "\n",
        "# Compare the results\n",
        "print(\"\\nComparison:\")\n",
        "print(f\"Accuracy difference (Scaled - Unscaled): {accuracy_scaled - accuracy_unscaled:.2f}\")"
      ],
      "metadata": {
        "colab": {
          "base_uri": "https://localhost:8080/"
        },
        "id": "X8J0AZBr2LEr",
        "outputId": "f0de3e9e-ffdc-4856-f9e8-3c1d55d6f84a"
      },
      "execution_count": 13,
      "outputs": [
        {
          "output_type": "stream",
          "name": "stdout",
          "text": [
            "--- SVM on Unscaled Data ---\n",
            "Accuracy with unscaled data: 1.00\n",
            "\n",
            "--- SVM on Scaled Data ---\n",
            "Accuracy with scaled data: 0.98\n",
            "\n",
            "Comparison:\n",
            "Accuracy difference (Scaled - Unscaled): -0.02\n"
          ]
        }
      ]
    },
    {
      "cell_type": "markdown",
      "source": [
        "Ques30. Write a Python program to train a Gaussian Naïve Bayes model and compare the predictions before and after Laplace Smoothing."
      ],
      "metadata": {
        "id": "4YZMXVA32PEg"
      }
    },
    {
      "cell_type": "code",
      "source": [
        "import numpy as np\n",
        "from sklearn.datasets import load_iris\n",
        "from sklearn.model_selection import train_test_split\n",
        "from sklearn.naive_bayes import GaussianNB\n",
        "from sklearn.metrics import accuracy_score, classification_report\n",
        "\n",
        "# 1. Load and split data\n",
        "data = load_iris()\n",
        "X_train, X_test, y_train, y_test = train_test_split(\n",
        "    data.data, data.target, test_size=0.3, random_state=42\n",
        ")\n",
        "\n",
        "# 2. Train without smoothing (default very small var_smoothing)\n",
        "gnb_default = GaussianNB(var_smoothing=1e-9)\n",
        "gnb_default.fit(X_train, y_train)\n",
        "y_pred_default = gnb_default.predict(X_test)\n",
        "\n",
        "# 3. Train with increased smoothing\n",
        "gnb_smoothed = GaussianNB(var_smoothing=1e-2)  # higher smoothing\n",
        "gnb_smoothed.fit(X_train, y_train)\n",
        "y_pred_smoothed = gnb_smoothed.predict(X_test)\n",
        "\n",
        "# 4. Evaluate both\n",
        "print(\"Without smoothing (var_smoothing=1e-9):\")\n",
        "print(f\"Accuracy: {accuracy_score(y_test, y_pred_default):.4f}\")\n",
        "print(classification_report(y_test, y_pred_default, target_names=data.target_names))\n",
        "\n",
        "print(\"\\n With smoothing (var_smoothing=1e-2):\")\n",
        "print(f\"Accuracy: {accuracy_score(y_test, y_pred_smoothed):.4f}\")\n",
        "print(classification_report(y_test, y_pred_smoothed, target_names=data.target_names))\n",
        "\n",
        "# 5. Compare predictions\n",
        "diff_index = np.where(y_pred_default != y_pred_smoothed)[0]\n",
        "print(f\"\\nSamples classified differently: {len(diff_index)} out of {len(y_test)}\")\n"
      ],
      "metadata": {
        "colab": {
          "base_uri": "https://localhost:8080/"
        },
        "id": "2BHJrLst24IA",
        "outputId": "9cb804fd-2ddc-486c-f0ef-51d5d4a0b712"
      },
      "execution_count": 18,
      "outputs": [
        {
          "output_type": "stream",
          "name": "stdout",
          "text": [
            "Without smoothing (var_smoothing=1e-9):\n",
            "Accuracy: 0.9778\n",
            "              precision    recall  f1-score   support\n",
            "\n",
            "      setosa       1.00      1.00      1.00        19\n",
            "  versicolor       1.00      0.92      0.96        13\n",
            "   virginica       0.93      1.00      0.96        13\n",
            "\n",
            "    accuracy                           0.98        45\n",
            "   macro avg       0.98      0.97      0.97        45\n",
            "weighted avg       0.98      0.98      0.98        45\n",
            "\n",
            "\n",
            " With smoothing (var_smoothing=1e-2):\n",
            "Accuracy: 1.0000\n",
            "              precision    recall  f1-score   support\n",
            "\n",
            "      setosa       1.00      1.00      1.00        19\n",
            "  versicolor       1.00      1.00      1.00        13\n",
            "   virginica       1.00      1.00      1.00        13\n",
            "\n",
            "    accuracy                           1.00        45\n",
            "   macro avg       1.00      1.00      1.00        45\n",
            "weighted avg       1.00      1.00      1.00        45\n",
            "\n",
            "\n",
            "Samples classified differently: 1 out of 45\n"
          ]
        }
      ]
    },
    {
      "cell_type": "markdown",
      "source": [
        "Ques31. Write a Python program to train an SVM Classifier and use GridSearchCV to tune the hyperparameters (C, gamma, kernel)."
      ],
      "metadata": {
        "id": "ABd4T_Ua2Y0K"
      }
    },
    {
      "cell_type": "code",
      "source": [
        "from sklearn.model_selection import GridSearchCV\n",
        "\n",
        "# Load the Iris dataset\n",
        "iris = load_iris()\n",
        "X = iris.data\n",
        "y = iris.target\n",
        "\n",
        "# Split data into training and testing sets\n",
        "X_train, X_test, y_train, y_test = train_test_split(X, y, test_size=0.3, random_state=42)\n",
        "\n",
        "# Define the parameter grid for GridSearchCV\n",
        "param_grid = {'C': [0.1, 1, 10, 100],\n",
        "              'gamma': [1, 0.1, 0.01, 0.001],\n",
        "              'kernel': ['rbf', 'linear']}\n",
        "\n",
        "# Create an SVM classifier instance\n",
        "svm = SVC()\n",
        "\n",
        "# Create a GridSearchCV object\n",
        "# cv=5 specifies 5-fold cross-validation\n",
        "grid_search = GridSearchCV(svm, param_grid, cv=5, scoring='accuracy')\n",
        "\n",
        "# Fit the GridSearchCV object to the training data\n",
        "grid_search.fit(X_train, y_train)\n",
        "\n",
        "# Print the best parameters found by GridSearchCV\n",
        "print(\"Best parameters found by GridSearchCV:\")\n",
        "print(grid_search.best_params_)\n",
        "\n",
        "# Print the best cross-validation score\n",
        "print(f\"Best cross-validation accuracy: {grid_search.best_score_:.4f}\")\n",
        "\n",
        "# Get the best model from the grid search\n",
        "best_svm_model = grid_search.best_estimator_\n",
        "\n",
        "# Evaluate the best model on the test set\n",
        "y_pred = best_svm_model.predict(X_test)\n",
        "accuracy = accuracy_score(y_test, y_pred)\n",
        "print(f\"Accuracy of the best SVM model on the test set: {accuracy:.4f}\")\n"
      ],
      "metadata": {
        "colab": {
          "base_uri": "https://localhost:8080/"
        },
        "id": "F3uO3Iba2eU6",
        "outputId": "85b92c76-21c1-42cc-8b0b-1a62f3cedc7f"
      },
      "execution_count": 19,
      "outputs": [
        {
          "output_type": "stream",
          "name": "stdout",
          "text": [
            "Best parameters found by GridSearchCV:\n",
            "{'C': 100, 'gamma': 0.01, 'kernel': 'rbf'}\n",
            "Best cross-validation accuracy: 0.9714\n",
            "Accuracy of the best SVM model on the test set: 1.0000\n"
          ]
        }
      ]
    },
    {
      "cell_type": "markdown",
      "source": [
        "Ques32. Write a Python program to train an SVM Classifier on an imbalanced dataset and apply class weighting and check it improve accuracy."
      ],
      "metadata": {
        "id": "m6WBgm913FoZ"
      }
    },
    {
      "cell_type": "code",
      "source": [
        "# Generate a synthetic imbalanced dataset\n",
        "X, y = make_classification(n_samples=1000, n_features=10, n_informative=5,\n",
        "                           n_redundant=0, n_clusters_per_class=1, weights=[0.9, 0.1],\n",
        "                           flip_y=0.05, random_state=42)\n",
        "\n",
        "# Split data into training and testing sets\n",
        "X_train, X_test, y_train, y_test = train_test_split(X, y, test_size=0.3, random_state=42)\n",
        "\n",
        "# Check the distribution of classes in the training set\n",
        "unique, counts = np.unique(y_train, return_counts=True)\n",
        "class_distribution_train = dict(zip(unique, counts))\n",
        "print(f\"Class distribution in training set: {class_distribution_train}\")\n",
        "\n",
        "# --- Train SVM on Imbalanced Data (without class weighting) ---\n",
        "print(\"\\n--- SVM on Imbalanced Data (without class weighting) ---\")\n",
        "svm_no_weight = SVC(kernel='linear', random_state=42)\n",
        "svm_no_weight.fit(X_train, y_train)\n",
        "y_pred_no_weight = svm_no_weight.predict(X_test)\n",
        "accuracy_no_weight = accuracy_score(y_test, y_pred_no_weight)\n",
        "print(f\"Accuracy without class weighting: {accuracy_no_weight:.4f}\")\n",
        "print(\"Classification Report without class weighting:\")\n",
        "print(classification_report(y_test, y_pred_no_weight))\n",
        "\n",
        "\n",
        "# --- Train SVM on Imbalanced Data (with class weighting) ---\n",
        "print(\"\\n--- SVM on Imbalanced Data (with class weighting) ---\")\n",
        "# Using 'balanced' will automatically adjust weights inversely proportional to class frequencies\n",
        "svm_with_weight = SVC(kernel='linear', class_weight='balanced', random_state=42)\n",
        "svm_with_weight.fit(X_train, y_train)\n",
        "y_pred_with_weight = svm_with_weight.predict(X_test)\n",
        "accuracy_with_weight = accuracy_score(y_test, y_pred_with_weight)\n",
        "print(f\"Accuracy with class weighting: {accuracy_with_weight:.4f}\")\n",
        "print(\"Classification Report with class weighting:\")\n",
        "print(classification_report(y_test, y_pred_with_weight))\n",
        "\n",
        "# Compare results (especially look at precision, recall, and F1-score for the minority class)\n",
        "print(\"\\nComparison of Classification Reports:\")\n",
        "print(\"Without Class Weighting:\")\n",
        "print(classification_report(y_test, y_pred_no_weight))\n",
        "print(\"\\nWith Class Weighting:\")\n",
        "print(classification_report(y_test, y_pred_with_weight))"
      ],
      "metadata": {
        "colab": {
          "base_uri": "https://localhost:8080/"
        },
        "id": "XachzEZK3LAJ",
        "outputId": "6968026d-f4d9-4a3d-f393-ba6b831ca8c5"
      },
      "execution_count": 20,
      "outputs": [
        {
          "output_type": "stream",
          "name": "stdout",
          "text": [
            "Class distribution in training set: {np.int64(0): np.int64(599), np.int64(1): np.int64(101)}\n",
            "\n",
            "--- SVM on Imbalanced Data (without class weighting) ---\n",
            "Accuracy without class weighting: 0.9467\n",
            "Classification Report without class weighting:\n",
            "              precision    recall  f1-score   support\n",
            "\n",
            "           0       0.94      1.00      0.97       268\n",
            "           1       1.00      0.50      0.67        32\n",
            "\n",
            "    accuracy                           0.95       300\n",
            "   macro avg       0.97      0.75      0.82       300\n",
            "weighted avg       0.95      0.95      0.94       300\n",
            "\n",
            "\n",
            "--- SVM on Imbalanced Data (with class weighting) ---\n",
            "Accuracy with class weighting: 0.9600\n",
            "Classification Report with class weighting:\n",
            "              precision    recall  f1-score   support\n",
            "\n",
            "           0       0.96      1.00      0.98       268\n",
            "           1       0.95      0.66      0.78        32\n",
            "\n",
            "    accuracy                           0.96       300\n",
            "   macro avg       0.96      0.83      0.88       300\n",
            "weighted avg       0.96      0.96      0.96       300\n",
            "\n",
            "\n",
            "Comparison of Classification Reports:\n",
            "Without Class Weighting:\n",
            "              precision    recall  f1-score   support\n",
            "\n",
            "           0       0.94      1.00      0.97       268\n",
            "           1       1.00      0.50      0.67        32\n",
            "\n",
            "    accuracy                           0.95       300\n",
            "   macro avg       0.97      0.75      0.82       300\n",
            "weighted avg       0.95      0.95      0.94       300\n",
            "\n",
            "\n",
            "With Class Weighting:\n",
            "              precision    recall  f1-score   support\n",
            "\n",
            "           0       0.96      1.00      0.98       268\n",
            "           1       0.95      0.66      0.78        32\n",
            "\n",
            "    accuracy                           0.96       300\n",
            "   macro avg       0.96      0.83      0.88       300\n",
            "weighted avg       0.96      0.96      0.96       300\n",
            "\n"
          ]
        }
      ]
    },
    {
      "cell_type": "markdown",
      "source": [
        "Ques33. Write a Python program to implement a Naïve Bayes classifier for spam detection using email data ."
      ],
      "metadata": {
        "id": "NZeyA6Qy3QIL"
      }
    },
    {
      "cell_type": "code",
      "source": [
        "# Load a sample dataset for spam detection (using 20 Newsgroups again, filtering for relevant categories)\n",
        "# In a real-world scenario, you would load a dedicated email spam dataset.\n",
        "# For demonstration, we'll use newsgroup categories related to spam/unwanted content.\n",
        "categories = ['comp.sys.mac.hardware', 'comp.graphics', 'misc.forsale', 'rec.autos', 'talk.politics.guns']\n",
        "newsgroups_train = fetch_20newsgroups(subset='train', categories=categories, shuffle=True, random_state=42)\n",
        "newsgroups_test = fetch_20newsgroups(subset='test', categories=categories, shuffle=True, random_state=42)\n",
        "\n",
        "X_train, y_train = newsgroups_train.data, newsgroups_train.target\n",
        "X_test, y_test = newsgroups_test.data, newsgroups_test.target\n",
        "\n",
        "# For simplicity in this example, let's define \"spam\" as one or two categories\n",
        "# and \"not spam\" as the others. This is a simplification for demonstration.\n",
        "# In a real spam dataset, labels would be explicitly 'spam' or 'not spam'.\n",
        "\n",
        "# Let's assume 'misc.forsale' is 'spam' (label 2 based on category list) and others are 'not spam'\n",
        "# Or, a more realistic approach for this dataset would be to treat each category as a \"type\"\n",
        "# of email and train a multi-class classifier, which is what MultinomialNB naturally does.\n",
        "# If we truly wanted binary spam/not-spam, we'd need a dedicated dataset or a careful mapping.\n",
        "# Sticking to the categories as classes and using MultinomialNB is the most appropriate\n",
        "# use of this dataset with Naive Bayes for a text classification task.\n",
        "\n",
        "# Convert text data to numerical feature vectors using TF-IDF\n",
        "vectorizer = TfidfVectorizer()\n",
        "X_train_tfidf = vectorizer.fit_transform(X_train)\n",
        "X_test_tfidf = vectorizer.transform(X_test)\n",
        "\n",
        "# Train a Multinomial Naive Bayes classifier (suitable for text counts/frequencies like TF-IDF)\n",
        "multinomial_nb = MultinomialNB()\n",
        "multinomial_nb.fit(X_train_tfidf, y_train)\n",
        "\n",
        "# Make predictions on the test set\n",
        "y_pred = multinomial_nb.predict(X_test_tfidf)\n",
        "\n",
        "# Evaluate the accuracy\n",
        "accuracy = accuracy_score(y_test, y_pred)\n",
        "print(f\"Accuracy of the Naive Bayes classifier for email classification: {accuracy:.4f}\")\n",
        "\n",
        "# Print classification report\n",
        "print(\"\\nClassification Report:\")\n",
        "print(classification_report(y_test, y_pred, target_names=newsgroups_test.target_names))\n",
        "\n",
        "# To interpret this as \"spam detection\":\n",
        "# You would need to map the target names to 'spam'/'not spam'.\n",
        "# For instance, if 'misc.forsale' (index 2) and maybe 'talk.politics.guns' (index 4) were spam:\n",
        "spam_categories = ['misc.forsale', 'talk.politics.guns']\n",
        "not_spam_categories = [cat for cat in newsgroups_test.target_names if cat not in spam_categories]\n",
        "\n",
        "# Function to map predictions/true labels to binary spam/not-spam\n",
        "def map_to_spam(labels, target_names, spam_cats):\n",
        "  binary_labels = []\n",
        "  for label in labels:\n",
        "    if target_names[label] in spam_cats:\n",
        "      binary_labels.append(1) # 1 for spam\n",
        "    else:\n",
        "      binary_labels.append(0) # 0 for not spam\n",
        "  return np.array(binary_labels)\n",
        "\n",
        "y_test_binary = map_to_spam(y_test, newsgroups_test.target_names, spam_categories)\n",
        "y_pred_binary = map_to_spam(y_pred, newsgroups_test.target_names, spam_categories)\n",
        "\n",
        "print(\"\\nBinary Spam Detection Evaluation (based on category mapping):\")\n",
        "print(\"Classification Report (Spam vs Not Spam):\")\n",
        "print(classification_report(y_test_binary, y_pred_binary, target_names=['Not Spam', 'Spam']))"
      ],
      "metadata": {
        "colab": {
          "base_uri": "https://localhost:8080/"
        },
        "id": "H7zBGLc13VRy",
        "outputId": "896591d3-b38b-4701-e897-14f5bd16519d"
      },
      "execution_count": 21,
      "outputs": [
        {
          "output_type": "stream",
          "name": "stdout",
          "text": [
            "Accuracy of the Naive Bayes classifier for email classification: 0.8945\n",
            "\n",
            "Classification Report:\n",
            "                       precision    recall  f1-score   support\n",
            "\n",
            "        comp.graphics       0.94      0.84      0.89       389\n",
            "comp.sys.mac.hardware       0.86      0.91      0.88       385\n",
            "         misc.forsale       0.96      0.78      0.86       390\n",
            "            rec.autos       0.85      0.96      0.91       396\n",
            "   talk.politics.guns       0.88      0.99      0.93       364\n",
            "\n",
            "             accuracy                           0.89      1924\n",
            "            macro avg       0.90      0.90      0.89      1924\n",
            "         weighted avg       0.90      0.89      0.89      1924\n",
            "\n",
            "\n",
            "Binary Spam Detection Evaluation (based on category mapping):\n",
            "Classification Report (Spam vs Not Spam):\n",
            "              precision    recall  f1-score   support\n",
            "\n",
            "    Not Spam       0.93      0.96      0.94      1170\n",
            "        Spam       0.93      0.90      0.91       754\n",
            "\n",
            "    accuracy                           0.93      1924\n",
            "   macro avg       0.93      0.93      0.93      1924\n",
            "weighted avg       0.93      0.93      0.93      1924\n",
            "\n"
          ]
        }
      ]
    },
    {
      "cell_type": "markdown",
      "source": [
        "Ques34. Write a Python program to train an SVM Classifier and a Naïve Bayes Classifier on the same dataset and compare their accuracy ."
      ],
      "metadata": {
        "id": "wSc8vN6z3b9z"
      }
    },
    {
      "cell_type": "code",
      "source": [
        "# Load a dataset suitable for both SVM and Naive Bayes (e.g., Iris or Breast Cancer)\n",
        "from sklearn.datasets import load_breast_cancer\n",
        "\n",
        "data = load_breast_cancer()\n",
        "X = data.data\n",
        "y = data.target\n",
        "\n",
        "# Split data into training and testing sets\n",
        "X_train, X_test, y_train, y_test = train_test_split(X, y, test_size=0.3, random_state=42)\n",
        "\n",
        "# --- Train SVM Classifier ---\n",
        "print(\"--- Training SVM Classifier ---\")\n",
        "# Using a linear kernel for simplicity, but RBF is also common\n",
        "svm_classifier = SVC(kernel='linear', random_state=42)\n",
        "svm_classifier.fit(X_train, y_train)\n",
        "\n",
        "# Make predictions and evaluate SVM\n",
        "y_pred_svm = svm_classifier.predict(X_test)\n",
        "accuracy_svm = accuracy_score(y_test, y_pred_svm)\n",
        "print(f\"Accuracy of SVM Classifier: {accuracy_svm:.4f}\")\n",
        "print(\"Classification Report for SVM:\")\n",
        "print(classification_report(y_test, y_pred_svm, target_names=data.target_names))\n",
        "\n",
        "# --- Train Naive Bayes Classifier ---\n",
        "print(\"\\n--- Training Naive Bayes Classifier ---\")\n",
        "# Use Gaussian Naive Bayes as the features are continuous\n",
        "nb_classifier = GaussianNB()\n",
        "nb_classifier.fit(X_train, y_train)\n",
        "\n",
        "# Make predictions and evaluate Naive Bayes\n",
        "y_pred_nb = nb_classifier.predict(X_test)\n",
        "accuracy_nb = accuracy_score(y_test, y_pred_nb)\n",
        "print(f\"Accuracy of Naive Bayes Classifier: {accuracy_nb:.4f}\")\n",
        "print(\"Classification Report for Naive Bayes:\")\n",
        "print(classification_report(y_test, y_pred_nb, target_names=data.target_names))\n",
        "\n",
        "# --- Compare Accuracies ---\n",
        "print(\"\\n--- Comparison ---\")\n",
        "print(f\"SVM Accuracy: {accuracy_svm:.4f}\")\n",
        "print(f\"Naive Bayes Accuracy: {accuracy_nb:.4f}\")\n",
        "\n",
        "if accuracy_svm > accuracy_nb:\n",
        "  print(\"SVM classifier has higher accuracy on this dataset.\")\n",
        "elif accuracy_nb > accuracy_svm:\n",
        "  print(\"Naive Bayes classifier has higher accuracy on this dataset.\")\n",
        "else:\n",
        "  print(\"Both classifiers have similar accuracy on this dataset.\")"
      ],
      "metadata": {
        "colab": {
          "base_uri": "https://localhost:8080/"
        },
        "id": "cp21ucdQ3g2x",
        "outputId": "a2519885-fcd9-4c16-d038-fea2dd87288f"
      },
      "execution_count": 22,
      "outputs": [
        {
          "output_type": "stream",
          "name": "stdout",
          "text": [
            "--- Training SVM Classifier ---\n",
            "Accuracy of SVM Classifier: 0.9649\n",
            "Classification Report for SVM:\n",
            "              precision    recall  f1-score   support\n",
            "\n",
            "   malignant       0.97      0.94      0.95        63\n",
            "      benign       0.96      0.98      0.97       108\n",
            "\n",
            "    accuracy                           0.96       171\n",
            "   macro avg       0.97      0.96      0.96       171\n",
            "weighted avg       0.96      0.96      0.96       171\n",
            "\n",
            "\n",
            "--- Training Naive Bayes Classifier ---\n",
            "Accuracy of Naive Bayes Classifier: 0.9415\n",
            "Classification Report for Naive Bayes:\n",
            "              precision    recall  f1-score   support\n",
            "\n",
            "   malignant       0.93      0.90      0.92        63\n",
            "      benign       0.95      0.96      0.95       108\n",
            "\n",
            "    accuracy                           0.94       171\n",
            "   macro avg       0.94      0.93      0.94       171\n",
            "weighted avg       0.94      0.94      0.94       171\n",
            "\n",
            "\n",
            "--- Comparison ---\n",
            "SVM Accuracy: 0.9649\n",
            "Naive Bayes Accuracy: 0.9415\n",
            "SVM classifier has higher accuracy on this dataset.\n"
          ]
        }
      ]
    },
    {
      "cell_type": "markdown",
      "source": [
        "Ques35. Write a Python program to perform feature selection before training a Naïve Bayes classifier and compare results ."
      ],
      "metadata": {
        "id": "WQQkabgK3pf6"
      }
    },
    {
      "cell_type": "code",
      "source": [
        "from sklearn.feature_selection import SelectKBest, chi2\n",
        "from sklearn.preprocessing import MinMaxScaler\n",
        "\n",
        "# Load a dataset suitable for feature selection and Naive Bayes\n",
        "# We'll use Breast Cancer as it has numerical features\n",
        "data = load_breast_cancer()\n",
        "X = data.data\n",
        "y = data.target\n",
        "\n",
        "# Split data into training and testing sets\n",
        "X_train, X_test, y_train, y_test = train_test_split(X, y, test_size=0.3, random_state=42)\n",
        "\n",
        "# --- Train Naive Bayes on Original Data ---\n",
        "print(\"--- Naive Bayes on Original Data ---\")\n",
        "nb_original = GaussianNB()\n",
        "nb_original.fit(X_train, y_train)\n",
        "y_pred_original = nb_original.predict(X_test)\n",
        "accuracy_original = accuracy_score(y_test, y_pred_original)\n",
        "print(f\"Accuracy with original features: {accuracy_original:.4f}\")\n",
        "print(\"Classification Report with original features:\")\n",
        "print(classification_report(y_test, y_pred_original, target_names=data.target_names))\n",
        "\n",
        "# --- Feature Selection using Chi-squared ---\n",
        "# Chi-squared is suitable for non-negative data. Since breast cancer features\n",
        "# are positive, we can use it. For datasets with negative values, consider f_classif.\n",
        "# We need to scale features to be non-negative for chi2\n",
        "scaler = MinMaxScaler()\n",
        "X_train_scaled = scaler.fit_transform(X_train)\n",
        "X_test_scaled = scaler.transform(X_test)\n",
        "\n",
        "\n",
        "# Select the top K best features. Let's choose, say, 15 features.\n",
        "k = 15 # You can experiment with different values of k\n",
        "selector = SelectKBest(chi2, k=k)\n",
        "X_train_selected = selector.fit_transform(X_train_scaled, y_train)\n",
        "X_test_selected = selector.transform(X_test_scaled)\n",
        "\n",
        "# Print the indices of the selected features\n",
        "selected_feature_indices = selector.get_support(indices=True)\n",
        "print(f\"\\nSelected features (indices): {selected_feature_indices}\")\n",
        "print(f\"Selected feature names: {[data.feature_names[i] for i in selected_feature_indices]}\")\n",
        "\n",
        "\n",
        "# --- Train Naive Bayes on Selected Data ---\n",
        "print(\"\\n--- Naive Bayes on Selected Features ---\")\n",
        "nb_selected = GaussianNB()\n",
        "nb_selected.fit(X_train_selected, y_train)\n",
        "y_pred_selected = nb_selected.predict(X_test_selected)\n",
        "accuracy_selected = accuracy_score(y_test, y_pred_selected)\n",
        "print(f\"Accuracy with selected features: {accuracy_selected:.4f}\")\n",
        "print(\"Classification Report with selected features:\")\n",
        "print(classification_report(y_test, y_pred_selected, target_names=data.target_names))\n",
        "\n",
        "\n",
        "# --- Compare Results ---\n",
        "print(\"\\n--- Comparison ---\")\n",
        "print(f\"Accuracy with original features: {accuracy_original:.4f}\")\n",
        "print(f\"Accuracy with selected features: {accuracy_selected:.4f}\")\n",
        "\n",
        "if accuracy_selected > accuracy_original:\n",
        "  print(\"Accuracy improved after feature selection.\")\n",
        "elif accuracy_original > accuracy_selected:\n",
        "  print(\"Accuracy decreased after feature selection.\")\n",
        "else:\n",
        "  print(\"Accuracy remained the same after feature selection.\")\n",
        "\n",
        "# Note: The impact of feature selection depends heavily on the dataset\n",
        "# and the feature selection method used. Sometimes it helps, sometimes it doesn't\n",
        "# have a significant impact, and sometimes it can even decrease performance\n",
        "# if important features are removed."
      ],
      "metadata": {
        "colab": {
          "base_uri": "https://localhost:8080/"
        },
        "id": "OCEbrBf83tFk",
        "outputId": "c8ff53bf-6309-4364-cbef-63a6efc6dc1e"
      },
      "execution_count": 23,
      "outputs": [
        {
          "output_type": "stream",
          "name": "stdout",
          "text": [
            "--- Naive Bayes on Original Data ---\n",
            "Accuracy with original features: 0.9415\n",
            "Classification Report with original features:\n",
            "              precision    recall  f1-score   support\n",
            "\n",
            "   malignant       0.93      0.90      0.92        63\n",
            "      benign       0.95      0.96      0.95       108\n",
            "\n",
            "    accuracy                           0.94       171\n",
            "   macro avg       0.94      0.93      0.94       171\n",
            "weighted avg       0.94      0.94      0.94       171\n",
            "\n",
            "\n",
            "Selected features (indices): [ 0  2  3  5  6  7 10 12 13 20 22 23 25 26 27]\n",
            "Selected feature names: [np.str_('mean radius'), np.str_('mean perimeter'), np.str_('mean area'), np.str_('mean compactness'), np.str_('mean concavity'), np.str_('mean concave points'), np.str_('radius error'), np.str_('perimeter error'), np.str_('area error'), np.str_('worst radius'), np.str_('worst perimeter'), np.str_('worst area'), np.str_('worst compactness'), np.str_('worst concavity'), np.str_('worst concave points')]\n",
            "\n",
            "--- Naive Bayes on Selected Features ---\n",
            "Accuracy with selected features: 0.9357\n",
            "Classification Report with selected features:\n",
            "              precision    recall  f1-score   support\n",
            "\n",
            "   malignant       0.92      0.90      0.91        63\n",
            "      benign       0.94      0.95      0.95       108\n",
            "\n",
            "    accuracy                           0.94       171\n",
            "   macro avg       0.93      0.93      0.93       171\n",
            "weighted avg       0.94      0.94      0.94       171\n",
            "\n",
            "\n",
            "--- Comparison ---\n",
            "Accuracy with original features: 0.9415\n",
            "Accuracy with selected features: 0.9357\n",
            "Accuracy decreased after feature selection.\n"
          ]
        }
      ]
    },
    {
      "cell_type": "markdown",
      "source": [
        "Ques36. Write a Python program to train an SVM Classifier using One-vs-Rest (OvR) and One-vs-One (OvO) strategies on the Wine dataset and compare their accuracy."
      ],
      "metadata": {
        "id": "NdIzxQgW3z4U"
      }
    },
    {
      "cell_type": "code",
      "source": [
        "from sklearn.multiclass import OneVsRestClassifier, OneVsOneClassifier\n",
        "\n",
        "# Load the Wine dataset\n",
        "wine = load_wine()\n",
        "X = wine.data\n",
        "y = wine.target\n",
        "\n",
        "# Split data into training and testing sets\n",
        "X_train, X_test, y_train, y_test = train_test_split(X, y, test_size=0.3, random_state=42)\n",
        "\n",
        "# --- Train SVM with One-vs-Rest (OvR) Strategy ---\n",
        "print(\"--- Training SVM with One-vs-Rest (OvR) ---\")\n",
        "# The base estimator is a standard SVM classifier\n",
        "svm_ovr = OneVsRestClassifier(SVC(kernel='linear', random_state=42))\n",
        "svm_ovr.fit(X_train, y_train)\n",
        "\n",
        "# Make predictions and evaluate OvR\n",
        "y_pred_ovr = svm_ovr.predict(X_test)\n",
        "accuracy_ovr = accuracy_score(y_test, y_pred_ovr)\n",
        "print(f\"Accuracy of SVM (OvR): {accuracy_ovr:.4f}\")\n",
        "print(\"Classification Report for SVM (OvR):\")\n",
        "print(classification_report(y_test, y_pred_ovr, target_names=wine.target_names))\n",
        "\n",
        "# --- Train SVM with One-vs-One (OvO) Strategy ---\n",
        "print(\"\\n--- Training SVM with One-vs-One (OvO) ---\")\n",
        "# The base estimator is a standard SVM classifier\n",
        "svm_ovo = OneVsOneClassifier(SVC(kernel='linear', random_state=42))\n",
        "svm_ovo.fit(X_train, y_train)\n",
        "\n",
        "# Make predictions and evaluate OvO\n",
        "y_pred_ovo = svm_ovo.predict(X_test)\n",
        "accuracy_ovo = accuracy_score(y_test, y_pred_ovo)\n",
        "print(f\"Accuracy of SVM (OvO): {accuracy_ovo:.4f}\")\n",
        "print(\"Classification Report for SVM (OvO):\")\n",
        "print(classification_report(y_test, y_pred_ovo, target_names=wine.target_names))\n",
        "\n",
        "# --- Compare Accuracies ---\n",
        "print(\"\\n--- Comparison ---\")\n",
        "print(f\"Accuracy of SVM (One-vs-Rest): {accuracy_ovr:.4f}\")\n",
        "print(f\"Accuracy of SVM (One-vs-One): {accuracy_ovo:.4f}\")\n",
        "\n",
        "if accuracy_ovr > accuracy_ovo:\n",
        "    print(\"One-vs-Rest strategy has higher accuracy on this dataset.\")\n",
        "elif accuracy_ovo > accuracy_ovr:\n",
        "    print(\"One-vs-One strategy has higher accuracy on this dataset.\")\n",
        "else:\n",
        "    print(\"Both strategies have similar accuracy on this dataset.\")"
      ],
      "metadata": {
        "colab": {
          "base_uri": "https://localhost:8080/"
        },
        "id": "xiCBP6bg32T6",
        "outputId": "f31492d6-b6a6-4f8c-a03f-c1fadc625113"
      },
      "execution_count": 26,
      "outputs": [
        {
          "output_type": "stream",
          "name": "stdout",
          "text": [
            "--- Training SVM with One-vs-Rest (OvR) ---\n",
            "Accuracy of SVM (OvR): 0.9815\n",
            "Classification Report for SVM (OvR):\n",
            "              precision    recall  f1-score   support\n",
            "\n",
            "     class_0       1.00      1.00      1.00        19\n",
            "     class_1       1.00      0.95      0.98        21\n",
            "     class_2       0.93      1.00      0.97        14\n",
            "\n",
            "    accuracy                           0.98        54\n",
            "   macro avg       0.98      0.98      0.98        54\n",
            "weighted avg       0.98      0.98      0.98        54\n",
            "\n",
            "\n",
            "--- Training SVM with One-vs-One (OvO) ---\n",
            "Accuracy of SVM (OvO): 0.9815\n",
            "Classification Report for SVM (OvO):\n",
            "              precision    recall  f1-score   support\n",
            "\n",
            "     class_0       1.00      1.00      1.00        19\n",
            "     class_1       1.00      0.95      0.98        21\n",
            "     class_2       0.93      1.00      0.97        14\n",
            "\n",
            "    accuracy                           0.98        54\n",
            "   macro avg       0.98      0.98      0.98        54\n",
            "weighted avg       0.98      0.98      0.98        54\n",
            "\n",
            "\n",
            "--- Comparison ---\n",
            "Accuracy of SVM (One-vs-Rest): 0.9815\n",
            "Accuracy of SVM (One-vs-One): 0.9815\n",
            "Both strategies have similar accuracy on this dataset.\n"
          ]
        }
      ]
    },
    {
      "cell_type": "markdown",
      "source": [
        "Ques37. Write a Python program to train an SVM Classifier using Linear, Polynomial, and RBF kernels on the Breast Cancer dataset and compare their accuracy."
      ],
      "metadata": {
        "id": "WsrCZpyD4AXj"
      }
    },
    {
      "cell_type": "code",
      "source": [
        "# Load the Breast Cancer dataset\n",
        "breast_cancer = load_breast_cancer()\n",
        "X = breast_cancer.data\n",
        "y = breast_cancer.target\n",
        "# Split data into training and testing sets\n",
        "X_train, X_test, y_train, y_test = train_test_split(X, y, test_size=0.3, random_state=42)\n",
        "# --- Train SVM with Linear kernel ---\n",
        "print(\"--- Training SVM with Linear Kernel ---\")\n",
        "svm_linear = SVC(kernel='linear', random_state=42)\n",
        "svm_linear.fit(X_train, y_train)\n",
        "y_pred_linear = svm_linear.predict(X_test)\n",
        "accuracy_linear = accuracy_score(y_test, y_pred_linear)\n",
        "print(f\"Accuracy of SVM (Linear Kernel): {accuracy_linear:.4f}\")\n",
        "print(\"Classification Report for SVM (Linear Kernel):\")\n",
        "print(classification_report(y_test, y_pred_linear, target_names=breast_cancer.target_names))\n",
        "# --- Train SVM with Polynomial kernel ---\n",
        "print(\"\\n--- Training SVM with Polynomial Kernel ---\")\n",
        "# You can experiment with different degrees (e.g., degree=2, degree=3)\n",
        "svm_poly = SVC(kernel='poly', degree=3, random_state=42)\n",
        "svm_poly.fit(X_train, y_train)\n",
        "y_pred_poly = svm_poly.predict(X_test)\n",
        "accuracy_poly = accuracy_score(y_test, y_pred_poly)\n",
        "print(f\"Accuracy of SVM (Polynomial Kernel, degree=3): {accuracy_poly:.4f}\")\n",
        "print(\"Classification Report for SVM (Polynomial Kernel):\")\n",
        "print(classification_report(y_test, y_pred_poly, target_names=breast_cancer.target_names))\n",
        "# --- Train SVM with RBF kernel ---\n",
        "print(\"\\n--- Training SVM with RBF Kernel ---\")\n",
        "# You might need to tune C and gamma for optimal RBF performance\n",
        "svm_rbf = SVC(kernel='rbf', random_state=42)\n",
        "svm_rbf.fit(X_train, y_train)\n",
        "y_pred_rbf = svm_rbf.predict(X_test)\n",
        "accuracy_rbf = accuracy_score(y_test, y_pred_rbf)\n",
        "print(f\"Accuracy of SVM (RBF Kernel): {accuracy_rbf:.4f}\")\n",
        "print(\"Classification Report for SVM (RBF Kernel):\")\n",
        "print(classification_report(y_test, y_pred_rbf, target_names=breast_cancer.target_names))\n",
        "# --- Compare Accuracies ---\n",
        "print(\"\\n--- Comparison of Kernel Accuracies ---\")\n",
        "print(f\"Accuracy (Linear Kernel):    {accuracy_linear:.4f}\")\n",
        "print(f\"Accuracy (Polynomial Kernel):{accuracy_poly:.4f}\")\n",
        "print(f\"Accuracy (RBF Kernel):       {accuracy_rbf:.4f}\")\n",
        "# Determine the best kernel based on accuracy\n",
        "best_accuracy = max(accuracy_linear, accuracy_poly, accuracy_rbf)\n",
        "if best_accuracy == accuracy_linear:\n",
        "    best_kernel = \"Linear\"\n",
        "elif best_accuracy == accuracy_poly:\n",
        "    best_kernel = \"Polynomial\"\n",
        "else:\n",
        "    best_kernel = \"RBF\"\n",
        "print(f\"\\nThe kernel with the highest accuracy is: {best_kernel}\")"
      ],
      "metadata": {
        "colab": {
          "base_uri": "https://localhost:8080/"
        },
        "id": "YOLyp42L4DYJ",
        "outputId": "1dec81ea-08ab-41e3-817f-3f5f8ff8b30a"
      },
      "execution_count": 27,
      "outputs": [
        {
          "output_type": "stream",
          "name": "stdout",
          "text": [
            "--- Training SVM with Linear Kernel ---\n",
            "Accuracy of SVM (Linear Kernel): 0.9649\n",
            "Classification Report for SVM (Linear Kernel):\n",
            "              precision    recall  f1-score   support\n",
            "\n",
            "   malignant       0.97      0.94      0.95        63\n",
            "      benign       0.96      0.98      0.97       108\n",
            "\n",
            "    accuracy                           0.96       171\n",
            "   macro avg       0.97      0.96      0.96       171\n",
            "weighted avg       0.96      0.96      0.96       171\n",
            "\n",
            "\n",
            "--- Training SVM with Polynomial Kernel ---\n",
            "Accuracy of SVM (Polynomial Kernel, degree=3): 0.9415\n",
            "Classification Report for SVM (Polynomial Kernel):\n",
            "              precision    recall  f1-score   support\n",
            "\n",
            "   malignant       0.98      0.86      0.92        63\n",
            "      benign       0.92      0.99      0.96       108\n",
            "\n",
            "    accuracy                           0.94       171\n",
            "   macro avg       0.95      0.92      0.94       171\n",
            "weighted avg       0.94      0.94      0.94       171\n",
            "\n",
            "\n",
            "--- Training SVM with RBF Kernel ---\n",
            "Accuracy of SVM (RBF Kernel): 0.9357\n",
            "Classification Report for SVM (RBF Kernel):\n",
            "              precision    recall  f1-score   support\n",
            "\n",
            "   malignant       1.00      0.83      0.90        63\n",
            "      benign       0.91      1.00      0.95       108\n",
            "\n",
            "    accuracy                           0.94       171\n",
            "   macro avg       0.95      0.91      0.93       171\n",
            "weighted avg       0.94      0.94      0.93       171\n",
            "\n",
            "\n",
            "--- Comparison of Kernel Accuracies ---\n",
            "Accuracy (Linear Kernel):    0.9649\n",
            "Accuracy (Polynomial Kernel):0.9415\n",
            "Accuracy (RBF Kernel):       0.9357\n",
            "\n",
            "The kernel with the highest accuracy is: Linear\n"
          ]
        }
      ]
    },
    {
      "cell_type": "markdown",
      "source": [
        "Ques38. Write a Python program to train an SVM Classifier using Stratified K-Fold Cross-Validation and compute the average accuracy."
      ],
      "metadata": {
        "id": "rkmiSw314gXp"
      }
    },
    {
      "cell_type": "code",
      "source": [
        "from sklearn.model_selection import StratifiedKFold\n",
        "\n",
        "# Load the Iris dataset (or any other suitable dataset)\n",
        "iris = load_iris()\n",
        "X = iris.data\n",
        "y = iris.target\n",
        "\n",
        "# Create a StratifiedKFold object\n",
        "# n_splits: number of folds (e.g., 5 or 10)\n",
        "# shuffle: whether to shuffle the data before splitting\n",
        "# random_state: for reproducibility\n",
        "n_splits = 5\n",
        "skf = StratifiedKFold(n_splits=n_splits, shuffle=True, random_state=42)\n",
        "\n",
        "# List to store accuracy scores for each fold\n",
        "accuracy_scores = []\n",
        "\n",
        "print(f\"Training SVM with Stratified {n_splits}-Fold Cross-Validation:\")\n",
        "\n",
        "# Iterate through each fold\n",
        "for fold, (train_index, test_index) in enumerate(skf.split(X, y)):\n",
        "  print(f\"\\n--- Fold {fold+1}/{n_splits} ---\")\n",
        "\n",
        "  # Split data into training and testing sets for the current fold\n",
        "  X_train, X_test = X[train_index], X[test_index]\n",
        "  y_train, y_test = y[train_index], y[test_index]\n",
        "\n",
        "  # Train an SVM classifier on the training data for this fold\n",
        "  # Using a linear kernel for simplicity, you can change this\n",
        "  svm_classifier = SVC(kernel='linear', random_state=42)\n",
        "  svm_classifier.fit(X_train, y_train)\n",
        "\n",
        "  # Make predictions on the test data for this fold\n",
        "  y_pred = svm_classifier.predict(X_test)\n",
        "\n",
        "  # Evaluate the accuracy for this fold\n",
        "  accuracy = accuracy_score(y_test, y_pred)\n",
        "  accuracy_scores.append(accuracy)\n",
        "\n",
        "  print(f\"Accuracy for Fold {fold+1}: {accuracy:.4f}\")\n",
        "\n",
        "# Compute the average accuracy across all folds\n",
        "average_accuracy = np.mean(accuracy_scores)\n",
        "std_accuracy = np.std(accuracy_scores)\n",
        "\n",
        "print(\"\\n--- Cross-Validation Results ---\")\n",
        "print(f\"Accuracy scores for each fold: {accuracy_scores}\")\n",
        "print(f\"Average accuracy: {average_accuracy:.4f}\")\n",
        "print(f\"Standard deviation of accuracy: {std_accuracy:.4f}\")"
      ],
      "metadata": {
        "colab": {
          "base_uri": "https://localhost:8080/"
        },
        "id": "AjtsZrEQ4kly",
        "outputId": "cc74c9d8-24ae-4b71-d400-946e5be47dca"
      },
      "execution_count": 29,
      "outputs": [
        {
          "output_type": "stream",
          "name": "stdout",
          "text": [
            "Training SVM with Stratified 5-Fold Cross-Validation:\n",
            "\n",
            "--- Fold 1/5 ---\n",
            "Accuracy for Fold 1: 1.0000\n",
            "\n",
            "--- Fold 2/5 ---\n",
            "Accuracy for Fold 2: 1.0000\n",
            "\n",
            "--- Fold 3/5 ---\n",
            "Accuracy for Fold 3: 0.9333\n",
            "\n",
            "--- Fold 4/5 ---\n",
            "Accuracy for Fold 4: 1.0000\n",
            "\n",
            "--- Fold 5/5 ---\n",
            "Accuracy for Fold 5: 1.0000\n",
            "\n",
            "--- Cross-Validation Results ---\n",
            "Accuracy scores for each fold: [1.0, 1.0, 0.9333333333333333, 1.0, 1.0]\n",
            "Average accuracy: 0.9867\n",
            "Standard deviation of accuracy: 0.0267\n"
          ]
        }
      ]
    },
    {
      "cell_type": "markdown",
      "source": [
        "Ques39. Write a Python program to train a Naïve Bayes classifier using different prior probabilities and compare performance."
      ],
      "metadata": {
        "id": "fOs8latg4sSl"
      }
    },
    {
      "cell_type": "code",
      "source": [
        "from sklearn.datasets import fetch_20newsgroups\n",
        "from sklearn.feature_extraction.text import CountVectorizer\n",
        "from sklearn.naive_bayes import MultinomialNB\n",
        "from sklearn.pipeline import Pipeline\n",
        "from sklearn.metrics import accuracy_score, classification_report\n",
        "\n",
        "# 1. Load a small subset for speed\n",
        "categories = ['alt.atheism', 'comp.graphics', 'sci.space']\n",
        "train = fetch_20newsgroups(subset='train',\n",
        "                           categories=categories,\n",
        "                           remove=('headers','footers','quotes'),\n",
        "                           random_state=42)\n",
        "test = fetch_20newsgroups(subset='test',\n",
        "                          categories=categories,\n",
        "                          remove=('headers','footers','quotes'),\n",
        "                          random_state=42)\n",
        "\n",
        "# 2. Define different prior settings\n",
        "# - Default: learn from data\n",
        "# - Uniform: override class frequencies\n",
        "# - Custom: e.g., bias towards sci.space\n",
        "prior_settings = {\n",
        "    'default (learned)': None,\n",
        "    'uniform': [1/3, 1/3, 1/3],\n",
        "    'custom (space-heavy)': [0.2, 0.2, 0.6]\n",
        "}\n",
        "\n",
        "results = {}\n",
        "\n",
        "for label, priors in prior_settings.items():\n",
        "    clf = Pipeline([\n",
        "        ('vect', CountVectorizer()),\n",
        "        ('clf', MultinomialNB(alpha=1.0,\n",
        "                              fit_prior=True,\n",
        "                              class_prior=priors))  # specify priors here\n",
        "    ])\n",
        "    clf.fit(train.data, train.target)\n",
        "    preds = clf.predict(test.data)\n",
        "    acc = accuracy_score(test.target, preds)\n",
        "    results[label] = (acc, classification_report(test.target, preds, target_names=categories))\n",
        "\n",
        "# 3. Print results\n",
        "for label, (acc, report) in results.items():\n",
        "    print(f\"\\n=== Priors: {label} ===\")\n",
        "    print(f\"Accuracy: {acc:.4f}\")\n",
        "    print(report)\n"
      ],
      "metadata": {
        "colab": {
          "base_uri": "https://localhost:8080/"
        },
        "id": "lyV3XNF_5Amj",
        "outputId": "0a59160f-b8c9-4af6-cea4-35dbca768b33"
      },
      "execution_count": 32,
      "outputs": [
        {
          "output_type": "stream",
          "name": "stdout",
          "text": [
            "\n",
            "=== Priors: default (learned) ===\n",
            "Accuracy: 0.8802\n",
            "               precision    recall  f1-score   support\n",
            "\n",
            "  alt.atheism       0.82      0.91      0.86       319\n",
            "comp.graphics       0.93      0.89      0.91       389\n",
            "    sci.space       0.88      0.84      0.86       394\n",
            "\n",
            "     accuracy                           0.88      1102\n",
            "    macro avg       0.88      0.88      0.88      1102\n",
            " weighted avg       0.88      0.88      0.88      1102\n",
            "\n",
            "\n",
            "=== Priors: uniform ===\n",
            "Accuracy: 0.8702\n",
            "               precision    recall  f1-score   support\n",
            "\n",
            "  alt.atheism       0.77      0.94      0.85       319\n",
            "comp.graphics       0.94      0.89      0.91       389\n",
            "    sci.space       0.91      0.79      0.85       394\n",
            "\n",
            "     accuracy                           0.87      1102\n",
            "    macro avg       0.87      0.87      0.87      1102\n",
            " weighted avg       0.88      0.87      0.87      1102\n",
            "\n",
            "\n",
            "=== Priors: custom (space-heavy) ===\n",
            "Accuracy: 0.8766\n",
            "               precision    recall  f1-score   support\n",
            "\n",
            "  alt.atheism       0.82      0.90      0.86       319\n",
            "comp.graphics       0.94      0.88      0.91       389\n",
            "    sci.space       0.87      0.85      0.86       394\n",
            "\n",
            "     accuracy                           0.88      1102\n",
            "    macro avg       0.88      0.88      0.88      1102\n",
            " weighted avg       0.88      0.88      0.88      1102\n",
            "\n"
          ]
        }
      ]
    },
    {
      "cell_type": "markdown",
      "source": [
        "Ques40. Write a Python program to perform Recursive Feature Elimination (RFE) before training an SVM Classifier and compare accuracy."
      ],
      "metadata": {
        "id": "JbuJ_UJ94xaC"
      }
    },
    {
      "cell_type": "code",
      "source": [
        "from sklearn.feature_selection import RFE\n",
        "from sklearn.svm import SVC\n",
        "from sklearn.metrics import accuracy_score\n",
        "from sklearn.datasets import load_breast_cancer\n",
        "from sklearn.model_selection import train_test_split\n",
        "\n",
        "# Load the Breast Cancer dataset\n",
        "breast_cancer = load_breast_cancer()\n",
        "X = breast_cancer.data\n",
        "y = breast_cancer.target\n",
        "\n",
        "# Split data into training and testing sets\n",
        "X_train, X_test, y_train, y_test = train_test_split(X, y, test_size=0.3, random_state=42)\n",
        "\n",
        "# --- Train SVM on Original Data ---\n",
        "print(\"--- SVM on Original Data ---\")\n",
        "svm_original = SVC(kernel='linear', random_state=42)\n",
        "svm_original.fit(X_train, y_train)\n",
        "y_pred_original = svm_original.predict(X_test)\n",
        "accuracy_original = accuracy_score(y_test, y_pred_original)\n",
        "print(f\"Accuracy with original features: {accuracy_original:.4f}\")\n",
        "\n",
        "# --- Perform Recursive Feature Elimination (RFE) ---\n",
        "# Define the base estimator (an SVM classifier)\n",
        "estimator = SVC(kernel='linear', random_state=42)\n",
        "\n",
        "# Define RFE. We need to specify how many features to select.\n",
        "# Let's select, say, half of the original features.\n",
        "n_features_to_select = int(X_train.shape[1] / 2)\n",
        "rfe = RFE(estimator=estimator, n_features_to_select=n_features_to_select, step=1)\n",
        "\n",
        "# Fit RFE on the training data to select features\n",
        "rfe.fit(X_train, y_train)\n",
        "\n",
        "# Transform the data to keep only the selected features\n",
        "X_train_rfe = rfe.transform(X_train)\n",
        "X_test_rfe = rfe.transform(X_test)\n",
        "\n",
        "# Print the selected features (indices)\n",
        "selected_feature_indices = rfe.get_support(indices=True)\n",
        "print(f\"\\nSelected features (indices) by RFE: {selected_feature_indices}\")\n",
        "print(f\"Selected feature names: {[breast_cancer.feature_names[i] for i in selected_feature_indices]}\")\n",
        "\n",
        "# --- Train SVM on RFE Selected Data ---\n",
        "print(\"\\n--- SVM on RFE Selected Features ---\")\n",
        "svm_rfe = SVC(kernel='linear', random_state=42)\n",
        "svm_rfe.fit(X_train_rfe, y_train)\n",
        "y_pred_rfe = svm_rfe.predict(X_test_rfe)\n",
        "accuracy_rfe = accuracy_score(y_test, y_pred_rfe)\n",
        "print(f\"Accuracy with RFE selected features: {accuracy_rfe:.4f}\")\n",
        "\n",
        "# --- Compare Accuracies ---\n",
        "print(\"\\n--- Comparison ---\")\n",
        "print(f\"Accuracy with original features:       {accuracy_original:.4f}\")\n",
        "print(f\"Accuracy with RFE selected features: {accuracy_rfe:.4f}\")\n",
        "\n",
        "if accuracy_rfe > accuracy_original:\n",
        "  print(\"Accuracy improved after Recursive Feature Elimination.\")\n",
        "elif accuracy_original > accuracy_rfe:\n",
        "  print(\"Accuracy decreased after Recursive Feature Elimination.\")\n",
        "else:\n",
        "  print(\"Accuracy remained the same after Recursive Feature Elimination.\")\n",
        "\n",
        "# Note: The impact of RFE depends heavily on the dataset, the base estimator,\n",
        "# and the number of features selected. Experimenting with n_features_to_select\n",
        "# is often necessary to find the optimal subset"
      ],
      "metadata": {
        "colab": {
          "base_uri": "https://localhost:8080/"
        },
        "id": "3gLD7gri5znU",
        "outputId": "5bbefd86-773d-4eb5-cad9-883ec2174263"
      },
      "execution_count": 34,
      "outputs": [
        {
          "output_type": "stream",
          "name": "stdout",
          "text": [
            "--- SVM on Original Data ---\n",
            "Accuracy with original features: 0.9649\n",
            "\n",
            "Selected features (indices) by RFE: [ 0  4  5  6  7  8 10 11 12 21 24 25 26 27 28]\n",
            "Selected feature names: [np.str_('mean radius'), np.str_('mean smoothness'), np.str_('mean compactness'), np.str_('mean concavity'), np.str_('mean concave points'), np.str_('mean symmetry'), np.str_('radius error'), np.str_('texture error'), np.str_('perimeter error'), np.str_('worst texture'), np.str_('worst smoothness'), np.str_('worst compactness'), np.str_('worst concavity'), np.str_('worst concave points'), np.str_('worst symmetry')]\n",
            "\n",
            "--- SVM on RFE Selected Features ---\n",
            "Accuracy with RFE selected features: 0.9766\n",
            "\n",
            "--- Comparison ---\n",
            "Accuracy with original features:       0.9649\n",
            "Accuracy with RFE selected features: 0.9766\n",
            "Accuracy improved after Recursive Feature Elimination.\n"
          ]
        }
      ]
    },
    {
      "cell_type": "markdown",
      "source": [
        "Ques41. Write a Python program to train an SVM Classifier and evaluate its performance using Precision, Recall, and F1-Score instead of accuracy."
      ],
      "metadata": {
        "id": "U4jo91z96Eaa"
      }
    },
    {
      "cell_type": "code",
      "source": [
        "from sklearn.metrics import precision_score, recall_score, f1_score\n",
        "\n",
        "# Load the Iris dataset\n",
        "iris = load_iris()\n",
        "X = iris.data\n",
        "y = iris.target\n",
        "\n",
        "# Split data into training and testing sets\n",
        "X_train, X_test, y_train, y_test = train_test_split(X, y, test_size=0.3, random_state=42)\n",
        "\n",
        "# Train an SVM classifier\n",
        "svm_classifier = SVC(kernel='linear', random_state=42)\n",
        "svm_classifier.fit(X_train, y_train)\n",
        "\n",
        "# Make predictions on the test set\n",
        "y_pred = svm_classifier.predict(X_test)\n",
        "\n",
        "# Evaluate the performance using Precision, Recall, and F1-Score\n",
        "\n",
        "# For multi-class problems, you need to specify an 'average' parameter\n",
        "# 'micro': Calculate metrics globally by counting the total true positives, false negatives, and false positives.\n",
        "# 'macro': Calculate metrics for each label, and find their unweighted mean. This does not take label imbalance into account.\n",
        "# 'weighted': Calculate metrics for each label, and find their average weighted by support (the number of true instances for each label). This alters 'macro' to account for label imbalance.\n",
        "# 'None': The results for each class are returned separately.\n",
        "\n",
        "precision = precision_score(y_test, y_pred, average='weighted')\n",
        "recall = recall_score(y_test, y_pred, average='weighted')\n",
        "f1 = f1_score(y_test, y_pred, average='weighted')\n",
        "\n",
        "print(f\"Precision of the SVM classifier on the Iris dataset: {precision:.4f}\")\n",
        "print(f\"Recall of the SVM classifier on the Iris dataset: {recall:.4f}\")\n",
        "print(f\"F1-Score of the SVM classifier on the Iris dataset: {f1:.4f}\")\n",
        "\n",
        "# You can also get a detailed report for each class using classification_report\n",
        "print(\"\\nClassification Report:\")\n",
        "print(classification_report(y_test, y_pred, target_names=iris.target_names))"
      ],
      "metadata": {
        "colab": {
          "base_uri": "https://localhost:8080/"
        },
        "id": "6JjDby2A6QLT",
        "outputId": "b0eab923-e623-4101-f36a-e0c12acdb102"
      },
      "execution_count": 36,
      "outputs": [
        {
          "output_type": "stream",
          "name": "stdout",
          "text": [
            "Precision of the SVM classifier on the Iris dataset: 1.0000\n",
            "Recall of the SVM classifier on the Iris dataset: 1.0000\n",
            "F1-Score of the SVM classifier on the Iris dataset: 1.0000\n",
            "\n",
            "Classification Report:\n",
            "              precision    recall  f1-score   support\n",
            "\n",
            "      setosa       1.00      1.00      1.00        19\n",
            "  versicolor       1.00      1.00      1.00        13\n",
            "   virginica       1.00      1.00      1.00        13\n",
            "\n",
            "    accuracy                           1.00        45\n",
            "   macro avg       1.00      1.00      1.00        45\n",
            "weighted avg       1.00      1.00      1.00        45\n",
            "\n"
          ]
        }
      ]
    },
    {
      "cell_type": "markdown",
      "source": [
        "Ques42. Write a Python program to train a Naïve Bayes Classifier and evaluate its performance using Log Loss (Cross-Entropy Loss) ."
      ],
      "metadata": {
        "id": "JhZgtZPi6TIq"
      }
    },
    {
      "cell_type": "code",
      "source": [
        "from sklearn.datasets import fetch_20newsgroups\n",
        "from sklearn.feature_extraction.text import CountVectorizer, TfidfTransformer\n",
        "from sklearn.naive_bayes import MultinomialNB\n",
        "from sklearn.pipeline import Pipeline\n",
        "from sklearn.metrics import log_loss, accuracy_score, classification_report\n",
        "\n",
        "# 1 Load data\n",
        "categories = ['alt.atheism', 'comp.graphics', 'sci.space']\n",
        "newsgroups = fetch_20newsgroups(subset='all', categories=categories, remove=('headers','footers','quotes'))\n",
        "\n",
        "# 2️ Split train/test\n",
        "from sklearn.model_selection import train_test_split\n",
        "X_train, X_test, y_train, y_test = train_test_split(newsgroups.data, newsgroups.target,\n",
        "                                                    test_size=0.2, random_state=42)\n",
        "\n",
        "# 3️ Build pipeline with probability output\n",
        "model = Pipeline([\n",
        "    ('vect', CountVectorizer()),\n",
        "    ('tfidf', TfidfTransformer()),\n",
        "    ('clf', MultinomialNB(alpha=1.0))  # supports predict_proba\n",
        "])\n",
        "\n",
        "# 4️ Train\n",
        "model.fit(X_train, y_train)\n",
        "\n",
        "# 5️ Predict\n",
        "y_pred = model.predict(X_test)\n",
        "y_prob = model.predict_proba(X_test)\n",
        "\n",
        "# 6️ Evaluation\n",
        "acc = accuracy_score(y_test, y_pred)\n",
        "loss = log_loss(y_test, y_prob)\n",
        "\n",
        "print(f\"Accuracy: {acc:.4f}\")\n",
        "print(f\"Log Loss: {loss:.4f}\")\n",
        "\n",
        "print(\"\\nClassification Report:\")\n",
        "print(classification_report(y_test, y_pred, target_names=newsgroups.target_names))\n"
      ],
      "metadata": {
        "colab": {
          "base_uri": "https://localhost:8080/"
        },
        "id": "DnURB-qr6dNi",
        "outputId": "ee2a62fd-ee8c-42d2-db15-d7021f2b641c"
      },
      "execution_count": 38,
      "outputs": [
        {
          "output_type": "stream",
          "name": "stdout",
          "text": [
            "Accuracy: 0.8714\n",
            "Log Loss: 0.4494\n",
            "\n",
            "Classification Report:\n",
            "               precision    recall  f1-score   support\n",
            "\n",
            "  alt.atheism       0.96      0.79      0.87       173\n",
            "comp.graphics       0.91      0.89      0.90       184\n",
            "    sci.space       0.78      0.93      0.85       195\n",
            "\n",
            "     accuracy                           0.87       552\n",
            "    macro avg       0.89      0.87      0.87       552\n",
            " weighted avg       0.88      0.87      0.87       552\n",
            "\n"
          ]
        }
      ]
    },
    {
      "cell_type": "markdown",
      "source": [
        "Ques43. Write a Python program to train an SVM Classifier and visualize the Confusion Matrix using seaborn ."
      ],
      "metadata": {
        "id": "J5EX4FmL6uVc"
      }
    },
    {
      "cell_type": "code",
      "source": [
        "import seaborn as sns\n",
        "from sklearn.metrics import confusion_matrix\n",
        "\n",
        "# Load the Iris dataset\n",
        "iris = load_iris()\n",
        "X = iris.data\n",
        "y = iris.target\n",
        "\n",
        "# Split data into training and testing sets\n",
        "X_train, X_test, y_train, y_test = train_test_split(X, y, test_size=0.3, random_state=42)\n",
        "\n",
        "# Train an SVM classifier\n",
        "svm_classifier = SVC(kernel='linear', random_state=42)\n",
        "svm_classifier.fit(X_train, y_train)\n",
        "\n",
        "# Make predictions on the test set\n",
        "y_pred = svm_classifier.predict(X_test)\n",
        "\n",
        "# Calculate the confusion matrix\n",
        "cm = confusion_matrix(y_test, y_pred)\n",
        "\n",
        "# Visualize the confusion matrix using seaborn\n",
        "plt.figure(figsize=(8, 6))\n",
        "sns.heatmap(cm, annot=True, fmt='d', cmap='Blues', xticklabels=iris.target_names, yticklabels=iris.target_names)\n",
        "plt.xlabel('Predicted Label')\n",
        "plt.ylabel('True Label')\n",
        "plt.title('Confusion Matrix for SVM Classifier')\n",
        "plt.show()\n"
      ],
      "metadata": {
        "colab": {
          "base_uri": "https://localhost:8080/",
          "height": 564
        },
        "id": "1U8tJX6H6zzM",
        "outputId": "a65eb7f6-2553-4ea0-ec52-dfba812d3b81"
      },
      "execution_count": 39,
      "outputs": [
        {
          "output_type": "display_data",
          "data": {
            "text/plain": [
              "<Figure size 800x600 with 2 Axes>"
            ],
            "image/png": "[encoded data removed]"
          },
          "metadata": {}
        }
      ]
    },
    {
      "cell_type": "markdown",
      "source": [
        "Ques44. Write a Python program to train an SVM Regressor (SVR) and evaluate its performance using Mean Absolute Error (MAE) instead of MSE ."
      ],
      "metadata": {
        "id": "U3r8vo2B6c1Z"
      }
    },
    {
      "cell_type": "code",
      "source": [
        "import numpy as np\n",
        "from sklearn.datasets import fetch_california_housing\n",
        "from sklearn.model_selection import train_test_split\n",
        "from sklearn.preprocessing import StandardScaler\n",
        "from sklearn.svm import SVR\n",
        "from sklearn.metrics import mean_absolute_error\n",
        "\n",
        "# 1. Load the California housing dataset\n",
        "data = fetch_california_housing()\n",
        "X, y = data.data, data.target\n",
        "\n",
        "# 2. Split data into train and test sets\n",
        "X_train, X_test, y_train, y_test = train_test_split(\n",
        "    X, y, test_size=0.2, random_state=42\n",
        ")\n",
        "\n",
        "# 3. Standardize features (important for SVR performance)\n",
        "scaler = StandardScaler()\n",
        "X_train_scaled = scaler.fit_transform(X_train)\n",
        "X_test_scaled = scaler.transform(X_test)\n",
        "\n",
        "# 4. Initialize and train the SVR model (RBF kernel)\n",
        "svr = SVR(kernel='rbf', C=10.0, epsilon=0.1, gamma='scale')\n",
        "svr.fit(X_train_scaled, y_train)\n",
        "\n",
        "# 5. Predict on the test set\n",
        "y_pred = svr.predict(X_test_scaled)\n",
        "\n",
        "# 6. Compute Mean Absolute Error (MAE)\n",
        "mae = mean_absolute_error(y_test, y_pred)\n",
        "print(f\"Mean Absolute Error (MAE): {mae:.4f}\")\n"
      ],
      "metadata": {
        "colab": {
          "base_uri": "https://localhost:8080/"
        },
        "id": "FxuJiKpI7lXa",
        "outputId": "e32f5ef3-59c4-4711-aaa4-07e96d5b9e8d"
      },
      "execution_count": 42,
      "outputs": [
        {
          "output_type": "stream",
          "name": "stdout",
          "text": [
            "Mean Absolute Error (MAE): 0.3774\n"
          ]
        }
      ]
    },
    {
      "cell_type": "markdown",
      "source": [
        "Ques45. Write a Python program to train a Naïve Bayes classifier and evaluate its performance using the ROC-AUC score."
      ],
      "metadata": {
        "id": "2wQeczD57RFa"
      }
    },
    {
      "cell_type": "code",
      "source": [
        "from sklearn.metrics import roc_curve, auc, roc_auc_score\n",
        "\n",
        "# Load the Breast Cancer dataset (suitable for binary classification)\n",
        "breast_cancer = load_breast_cancer()\n",
        "X = breast_cancer.data\n",
        "y = breast_cancer.target\n",
        "\n",
        "# Split data into training and testing sets\n",
        "X_train, X_test, y_train, y_test = train_test_split(X, y, test_size=0.3, random_state=42)\n",
        "\n",
        "# Train a Gaussian Naive Bayes classifier\n",
        "gnb = GaussianNB()\n",
        "gnb.fit(X_train, y_train)\n",
        "\n",
        "# To calculate ROC-AUC, we need the predicted probabilities for the positive class (class 1)\n",
        "# predict_proba returns the probability of each class for each sample\n",
        "y_prob = gnb.predict_proba(X_test)[:, 1] # Get probabilities for the positive class (class 1)\n",
        "\n",
        "# Calculate the ROC-AUC score\n",
        "roc_auc = roc_auc_score(y_test, y_prob)\n",
        "\n",
        "print(f\"ROC-AUC score of the Gaussian Naive Bayes classifier: {roc_auc:.4f}\")\n",
        "\n",
        "# Optional: Plot the ROC curve\n",
        "fpr, tpr, thresholds = roc_curve(y_test, y_prob)\n",
        "roc_auc_val = auc(fpr, tpr)\n",
        "\n",
        "plt.figure()\n",
        "plt.plot(fpr, tpr, color='darkorange', lw=2, label=f'ROC curve (area = {roc_auc_val:.2f})')\n",
        "plt.plot([0, 1], [0, 1], color='navy', lw=2, linestyle='--')\n",
        "plt.xlim([0.0, 1.0])\n",
        "plt.ylim([0.0, 1.05])\n",
        "plt.xlabel('False Positive Rate')\n",
        "plt.ylabel('True Positive Rate')\n",
        "plt.title('Receiver Operating Characteristic (ROC) Curve for Naive Bayes')\n",
        "plt.legend(loc=\"lower right\")\n",
        "plt.show()"
      ],
      "metadata": {
        "colab": {
          "base_uri": "https://localhost:8080/",
          "height": 489
        },
        "id": "jreZbQ9g7XZU",
        "outputId": "cc00ae8d-d9b1-4a5c-e83c-a41c5706fe7e"
      },
      "execution_count": 41,
      "outputs": [
        {
          "output_type": "stream",
          "name": "stdout",
          "text": [
            "ROC-AUC score of the Gaussian Naive Bayes classifier: 0.9922\n"
          ]
        },
        {
          "output_type": "display_data",
          "data": {
            "text/plain": [
              "<Figure size 640x480 with 1 Axes>"
            ],
            "image/png": "[encoded data removed]"
          },
          "metadata": {}
        }
      ]
    },
    {
      "cell_type": "markdown",
      "source": [
        "Ques46. Write a Python program to train an SVM Classifier and visualize the Precision-Recall Curve."
      ],
      "metadata": {
        "id": "HI_U2epN77L0"
      }
    },
    {
      "cell_type": "code",
      "source": [
        "from sklearn.metrics import precision_recall_curve, average_precision_score\n",
        "from sklearn.datasets import make_classification\n",
        "from sklearn.svm import SVC\n",
        "import matplotlib.pyplot as plt\n",
        "from sklearn.model_selection import train_test_split\n",
        "import numpy as np\n",
        "\n",
        "# Generate synthetic data for a binary classification problem\n",
        "# This dataset is suitable for visualizing Precision-Recall Curve\n",
        "X, y = make_classification(n_samples=1000, n_features=20, n_informative=10,\n",
        "                           n_redundant=0, n_clusters_per_class=1, weights=[0.9, 0.1],\n",
        "                           flip_y=0.05, random_state=42)\n",
        "\n",
        "# Split data into training and testing sets\n",
        "X_train, X_test, y_train, y_test = train_test_split(X, y, test_size=0.3, random_state=42)\n",
        "\n",
        "# Train an SVM classifier\n",
        "# For Precision-Recall Curve, it's often beneficial to get probability estimates or decision function values.\n",
        "# SVC with probability=True can be slow, using decision_function is often preferred.\n",
        "svm_classifier = SVC(kernel='linear', random_state=42, probability=True) # Set probability to True\n",
        "svm_classifier.fit(X_train, y_train)\n",
        "\n",
        "# Get the probability estimates for the positive class (class 1)\n",
        "# predict_proba[:, 1] gives the probability of belonging to the positive class\n",
        "y_scores = svm_classifier.predict_proba(X_test)[:, 1]\n",
        "\n",
        "# Calculate Precision and Recall for different probability thresholds\n",
        "precision, recall, thresholds = precision_recall_curve(y_test, y_scores)\n",
        "\n",
        "# Calculate the Average Precision Score\n",
        "average_precision = average_precision_score(y_test, y_scores)\n",
        "\n",
        "# Visualize the Precision-Recall Curve\n",
        "plt.figure(figsize=(8, 6))\n",
        "plt.plot(recall, precision, color='b', alpha=0.8,\n",
        "         label=f'Precision-Recall curve (AP = {average_precision:.2f})')\n",
        "plt.xlabel('Recall')\n",
        "plt.ylabel('Precision')\n",
        "plt.title('Precision-Recall Curve for SVM Classifier')\n",
        "plt.legend(loc=\"lower left\")\n",
        "plt.grid(True)\n",
        "plt.show()"
      ],
      "metadata": {
        "colab": {
          "base_uri": "https://localhost:8080/",
          "height": 564
        },
        "id": "heGp1aus7_FT",
        "outputId": "51183154-56d0-435c-9bbf-b234ab260bf1"
      },
      "execution_count": 44,
      "outputs": [
        {
          "output_type": "display_data",
          "data": {
            "text/plain": [
              "<Figure size 800x600 with 1 Axes>"
            ],
            "image/png": "[encoded data removed]"
          },
          "metadata": {}
        }
      ]
    }
  ]
}